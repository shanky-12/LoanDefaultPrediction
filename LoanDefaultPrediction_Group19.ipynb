{
 "cells": [
  {
   "cell_type": "markdown",
   "id": "e5bbca34",
   "metadata": {},
   "source": [
    "# Loan Default Prediction"
   ]
  },
  {
   "cell_type": "raw",
   "id": "51230dba",
   "metadata": {},
   "source": [
    "NAME AND CWID:\n",
    "1. SHANKY TYAGI            : 20005816\n",
    "2. ATHARVA PARTE           : 20012035\n",
    "3. MAHESH PRASAD PISHARODY : 20011130"
   ]
  },
  {
   "cell_type": "markdown",
   "id": "a253b2ba",
   "metadata": {},
   "source": [
    "#### Importing the necessary libraries"
   ]
  },
  {
   "cell_type": "code",
   "execution_count": 5,
   "id": "fbfdadf8",
   "metadata": {
    "id": "fbfdadf8"
   },
   "outputs": [],
   "source": [
    "import pandas as pd\n",
    "import numpy as np\n",
    "import seaborn as sns\n",
    "import matplotlib.pyplot as plt\n",
    "from sklearn.preprocessing import MinMaxScaler\n",
    "from sklearn.model_selection import train_test_split\n",
    "from sklearn.metrics import accuracy_score, confusion_matrix, classification_report, f1_score"
   ]
  },
  {
   "cell_type": "markdown",
   "id": "0b4cad97",
   "metadata": {},
   "source": [
    "#### Loading the dataset into a DataFrame"
   ]
  },
  {
   "cell_type": "code",
   "execution_count": 6,
   "id": "d13f83eb",
   "metadata": {
    "id": "d13f83eb"
   },
   "outputs": [],
   "source": [
    "df = pd.read_csv(\"Loan_default.csv\")\n"
   ]
  },
  {
   "cell_type": "code",
   "execution_count": 7,
   "id": "cbf31768",
   "metadata": {},
   "outputs": [
    {
     "data": {
      "text/plain": [
       "(148670, 34)"
      ]
     },
     "execution_count": 7,
     "metadata": {},
     "output_type": "execute_result"
    }
   ],
   "source": [
    "df.shape"
   ]
  },
  {
   "cell_type": "markdown",
   "id": "627b8fa5",
   "metadata": {},
   "source": [
    "## Part 1: Data Cleaning"
   ]
  },
  {
   "cell_type": "markdown",
   "id": "e905b5a2",
   "metadata": {
    "id": "e905b5a2"
   },
   "source": [
    "#### Using df.head( ) to view all the columns of the dataset"
   ]
  },
  {
   "cell_type": "code",
   "execution_count": 8,
   "id": "e74b7859",
   "metadata": {
    "id": "e74b7859",
    "outputId": "cc978180-24d0-4f61-ac4d-b4120f9b2033"
   },
   "outputs": [
    {
     "data": {
      "text/html": [
       "<div>\n",
       "<style scoped>\n",
       "    .dataframe tbody tr th:only-of-type {\n",
       "        vertical-align: middle;\n",
       "    }\n",
       "\n",
       "    .dataframe tbody tr th {\n",
       "        vertical-align: top;\n",
       "    }\n",
       "\n",
       "    .dataframe thead th {\n",
       "        text-align: right;\n",
       "    }\n",
       "</style>\n",
       "<table border=\"1\" class=\"dataframe\">\n",
       "  <thead>\n",
       "    <tr style=\"text-align: right;\">\n",
       "      <th></th>\n",
       "      <th>ID</th>\n",
       "      <th>year</th>\n",
       "      <th>loan_limit</th>\n",
       "      <th>Gender</th>\n",
       "      <th>approv_in_adv</th>\n",
       "      <th>loan_type</th>\n",
       "      <th>loan_purpose</th>\n",
       "      <th>Credit_Worthiness</th>\n",
       "      <th>open_credit</th>\n",
       "      <th>business_or_commercial</th>\n",
       "      <th>loan_amount</th>\n",
       "      <th>rate_of_interest</th>\n",
       "      <th>Interest_rate_spread</th>\n",
       "      <th>Upfront_charges</th>\n",
       "      <th>term</th>\n",
       "      <th>Neg_ammortization</th>\n",
       "      <th>interest_only</th>\n",
       "      <th>lump_sum_payment</th>\n",
       "      <th>property_value</th>\n",
       "      <th>construction_type</th>\n",
       "      <th>occupancy_type</th>\n",
       "      <th>Secured_by</th>\n",
       "      <th>total_units</th>\n",
       "      <th>income</th>\n",
       "      <th>credit_type</th>\n",
       "      <th>Credit_Score</th>\n",
       "      <th>co-applicant_credit_type</th>\n",
       "      <th>age</th>\n",
       "      <th>submission_of_application</th>\n",
       "      <th>LTV</th>\n",
       "      <th>Region</th>\n",
       "      <th>Security_Type</th>\n",
       "      <th>Status</th>\n",
       "      <th>dtir1</th>\n",
       "    </tr>\n",
       "  </thead>\n",
       "  <tbody>\n",
       "    <tr>\n",
       "      <th>0</th>\n",
       "      <td>24890</td>\n",
       "      <td>2019</td>\n",
       "      <td>cf</td>\n",
       "      <td>Sex Not Available</td>\n",
       "      <td>nopre</td>\n",
       "      <td>type1</td>\n",
       "      <td>p1</td>\n",
       "      <td>l1</td>\n",
       "      <td>nopc</td>\n",
       "      <td>nob/c</td>\n",
       "      <td>116500</td>\n",
       "      <td>NaN</td>\n",
       "      <td>NaN</td>\n",
       "      <td>NaN</td>\n",
       "      <td>360.0</td>\n",
       "      <td>not_neg</td>\n",
       "      <td>not_int</td>\n",
       "      <td>not_lpsm</td>\n",
       "      <td>118000.0</td>\n",
       "      <td>sb</td>\n",
       "      <td>pr</td>\n",
       "      <td>home</td>\n",
       "      <td>1U</td>\n",
       "      <td>1740.0</td>\n",
       "      <td>EXP</td>\n",
       "      <td>758</td>\n",
       "      <td>CIB</td>\n",
       "      <td>25-34</td>\n",
       "      <td>to_inst</td>\n",
       "      <td>98.728814</td>\n",
       "      <td>south</td>\n",
       "      <td>direct</td>\n",
       "      <td>1</td>\n",
       "      <td>45.0</td>\n",
       "    </tr>\n",
       "    <tr>\n",
       "      <th>1</th>\n",
       "      <td>24891</td>\n",
       "      <td>2019</td>\n",
       "      <td>cf</td>\n",
       "      <td>Male</td>\n",
       "      <td>nopre</td>\n",
       "      <td>type2</td>\n",
       "      <td>p1</td>\n",
       "      <td>l1</td>\n",
       "      <td>nopc</td>\n",
       "      <td>b/c</td>\n",
       "      <td>206500</td>\n",
       "      <td>NaN</td>\n",
       "      <td>NaN</td>\n",
       "      <td>NaN</td>\n",
       "      <td>360.0</td>\n",
       "      <td>not_neg</td>\n",
       "      <td>not_int</td>\n",
       "      <td>lpsm</td>\n",
       "      <td>NaN</td>\n",
       "      <td>sb</td>\n",
       "      <td>pr</td>\n",
       "      <td>home</td>\n",
       "      <td>1U</td>\n",
       "      <td>4980.0</td>\n",
       "      <td>EQUI</td>\n",
       "      <td>552</td>\n",
       "      <td>EXP</td>\n",
       "      <td>55-64</td>\n",
       "      <td>to_inst</td>\n",
       "      <td>NaN</td>\n",
       "      <td>North</td>\n",
       "      <td>direct</td>\n",
       "      <td>1</td>\n",
       "      <td>NaN</td>\n",
       "    </tr>\n",
       "    <tr>\n",
       "      <th>2</th>\n",
       "      <td>24892</td>\n",
       "      <td>2019</td>\n",
       "      <td>cf</td>\n",
       "      <td>Male</td>\n",
       "      <td>pre</td>\n",
       "      <td>type1</td>\n",
       "      <td>p1</td>\n",
       "      <td>l1</td>\n",
       "      <td>nopc</td>\n",
       "      <td>nob/c</td>\n",
       "      <td>406500</td>\n",
       "      <td>4.56</td>\n",
       "      <td>0.2000</td>\n",
       "      <td>595.0</td>\n",
       "      <td>360.0</td>\n",
       "      <td>neg_amm</td>\n",
       "      <td>not_int</td>\n",
       "      <td>not_lpsm</td>\n",
       "      <td>508000.0</td>\n",
       "      <td>sb</td>\n",
       "      <td>pr</td>\n",
       "      <td>home</td>\n",
       "      <td>1U</td>\n",
       "      <td>9480.0</td>\n",
       "      <td>EXP</td>\n",
       "      <td>834</td>\n",
       "      <td>CIB</td>\n",
       "      <td>35-44</td>\n",
       "      <td>to_inst</td>\n",
       "      <td>80.019685</td>\n",
       "      <td>south</td>\n",
       "      <td>direct</td>\n",
       "      <td>0</td>\n",
       "      <td>46.0</td>\n",
       "    </tr>\n",
       "    <tr>\n",
       "      <th>3</th>\n",
       "      <td>24893</td>\n",
       "      <td>2019</td>\n",
       "      <td>cf</td>\n",
       "      <td>Male</td>\n",
       "      <td>nopre</td>\n",
       "      <td>type1</td>\n",
       "      <td>p4</td>\n",
       "      <td>l1</td>\n",
       "      <td>nopc</td>\n",
       "      <td>nob/c</td>\n",
       "      <td>456500</td>\n",
       "      <td>4.25</td>\n",
       "      <td>0.6810</td>\n",
       "      <td>NaN</td>\n",
       "      <td>360.0</td>\n",
       "      <td>not_neg</td>\n",
       "      <td>not_int</td>\n",
       "      <td>not_lpsm</td>\n",
       "      <td>658000.0</td>\n",
       "      <td>sb</td>\n",
       "      <td>pr</td>\n",
       "      <td>home</td>\n",
       "      <td>1U</td>\n",
       "      <td>11880.0</td>\n",
       "      <td>EXP</td>\n",
       "      <td>587</td>\n",
       "      <td>CIB</td>\n",
       "      <td>45-54</td>\n",
       "      <td>not_inst</td>\n",
       "      <td>69.376900</td>\n",
       "      <td>North</td>\n",
       "      <td>direct</td>\n",
       "      <td>0</td>\n",
       "      <td>42.0</td>\n",
       "    </tr>\n",
       "    <tr>\n",
       "      <th>4</th>\n",
       "      <td>24894</td>\n",
       "      <td>2019</td>\n",
       "      <td>cf</td>\n",
       "      <td>Joint</td>\n",
       "      <td>pre</td>\n",
       "      <td>type1</td>\n",
       "      <td>p1</td>\n",
       "      <td>l1</td>\n",
       "      <td>nopc</td>\n",
       "      <td>nob/c</td>\n",
       "      <td>696500</td>\n",
       "      <td>4.00</td>\n",
       "      <td>0.3042</td>\n",
       "      <td>0.0</td>\n",
       "      <td>360.0</td>\n",
       "      <td>not_neg</td>\n",
       "      <td>not_int</td>\n",
       "      <td>not_lpsm</td>\n",
       "      <td>758000.0</td>\n",
       "      <td>sb</td>\n",
       "      <td>pr</td>\n",
       "      <td>home</td>\n",
       "      <td>1U</td>\n",
       "      <td>10440.0</td>\n",
       "      <td>CRIF</td>\n",
       "      <td>602</td>\n",
       "      <td>EXP</td>\n",
       "      <td>25-34</td>\n",
       "      <td>not_inst</td>\n",
       "      <td>91.886544</td>\n",
       "      <td>North</td>\n",
       "      <td>direct</td>\n",
       "      <td>0</td>\n",
       "      <td>39.0</td>\n",
       "    </tr>\n",
       "  </tbody>\n",
       "</table>\n",
       "</div>"
      ],
      "text/plain": [
       "      ID  year loan_limit             Gender approv_in_adv loan_type  \\\n",
       "0  24890  2019         cf  Sex Not Available         nopre     type1   \n",
       "1  24891  2019         cf               Male         nopre     type2   \n",
       "2  24892  2019         cf               Male           pre     type1   \n",
       "3  24893  2019         cf               Male         nopre     type1   \n",
       "4  24894  2019         cf              Joint           pre     type1   \n",
       "\n",
       "  loan_purpose Credit_Worthiness open_credit business_or_commercial  \\\n",
       "0           p1                l1        nopc                  nob/c   \n",
       "1           p1                l1        nopc                    b/c   \n",
       "2           p1                l1        nopc                  nob/c   \n",
       "3           p4                l1        nopc                  nob/c   \n",
       "4           p1                l1        nopc                  nob/c   \n",
       "\n",
       "   loan_amount  rate_of_interest  Interest_rate_spread  Upfront_charges  \\\n",
       "0       116500               NaN                   NaN              NaN   \n",
       "1       206500               NaN                   NaN              NaN   \n",
       "2       406500              4.56                0.2000            595.0   \n",
       "3       456500              4.25                0.6810              NaN   \n",
       "4       696500              4.00                0.3042              0.0   \n",
       "\n",
       "    term Neg_ammortization interest_only lump_sum_payment  property_value  \\\n",
       "0  360.0           not_neg       not_int         not_lpsm        118000.0   \n",
       "1  360.0           not_neg       not_int             lpsm             NaN   \n",
       "2  360.0           neg_amm       not_int         not_lpsm        508000.0   \n",
       "3  360.0           not_neg       not_int         not_lpsm        658000.0   \n",
       "4  360.0           not_neg       not_int         not_lpsm        758000.0   \n",
       "\n",
       "  construction_type occupancy_type Secured_by total_units   income  \\\n",
       "0                sb             pr       home          1U   1740.0   \n",
       "1                sb             pr       home          1U   4980.0   \n",
       "2                sb             pr       home          1U   9480.0   \n",
       "3                sb             pr       home          1U  11880.0   \n",
       "4                sb             pr       home          1U  10440.0   \n",
       "\n",
       "  credit_type  Credit_Score co-applicant_credit_type    age  \\\n",
       "0         EXP           758                      CIB  25-34   \n",
       "1        EQUI           552                      EXP  55-64   \n",
       "2         EXP           834                      CIB  35-44   \n",
       "3         EXP           587                      CIB  45-54   \n",
       "4        CRIF           602                      EXP  25-34   \n",
       "\n",
       "  submission_of_application        LTV Region Security_Type  Status  dtir1  \n",
       "0                   to_inst  98.728814  south        direct       1   45.0  \n",
       "1                   to_inst        NaN  North        direct       1    NaN  \n",
       "2                   to_inst  80.019685  south        direct       0   46.0  \n",
       "3                  not_inst  69.376900  North        direct       0   42.0  \n",
       "4                  not_inst  91.886544  North        direct       0   39.0  "
      ]
     },
     "execution_count": 8,
     "metadata": {},
     "output_type": "execute_result"
    }
   ],
   "source": [
    "pd.set_option('display.max_columns', None)\n",
    "df.head()"
   ]
  },
  {
   "cell_type": "markdown",
   "id": "c8ce38af",
   "metadata": {
    "id": "c8ce38af"
   },
   "source": [
    "#### We can drop the ID and year columns from the dataframe since they do not play a role in the prediction, and the dataset only spans a single year (2019). Similarly, we can drop the secured_by and security_type columns as they contain repetitive values that do not provide any meaningful information for the prediction process."
   ]
  },
  {
   "cell_type": "code",
   "execution_count": 9,
   "id": "ecbbcea5",
   "metadata": {
    "id": "ecbbcea5"
   },
   "outputs": [],
   "source": [
    "df = df.drop(columns=['ID', 'year', 'Secured_by', 'Security_Type'])"
   ]
  },
  {
   "cell_type": "markdown",
   "id": "5611bb00",
   "metadata": {
    "id": "5611bb00"
   },
   "source": [
    "#### Checking for null values in each column of the dataset"
   ]
  },
  {
   "cell_type": "code",
   "execution_count": 10,
   "id": "e92a1e92",
   "metadata": {
    "id": "e92a1e92",
    "outputId": "b1c9a2c1-3e46-4675-b732-bc7994012048"
   },
   "outputs": [
    {
     "data": {
      "text/plain": [
       "loan_limit                    3344\n",
       "Gender                           0\n",
       "approv_in_adv                  908\n",
       "loan_type                        0\n",
       "loan_purpose                   134\n",
       "Credit_Worthiness                0\n",
       "open_credit                      0\n",
       "business_or_commercial           0\n",
       "loan_amount                      0\n",
       "rate_of_interest             36439\n",
       "Interest_rate_spread         36639\n",
       "Upfront_charges              39642\n",
       "term                            41\n",
       "Neg_ammortization              121\n",
       "interest_only                    0\n",
       "lump_sum_payment                 0\n",
       "property_value               15098\n",
       "construction_type                0\n",
       "occupancy_type                   0\n",
       "total_units                      0\n",
       "income                        9150\n",
       "credit_type                      0\n",
       "Credit_Score                     0\n",
       "co-applicant_credit_type         0\n",
       "age                            200\n",
       "submission_of_application      200\n",
       "LTV                          15098\n",
       "Region                           0\n",
       "Status                           0\n",
       "dtir1                        24121\n",
       "dtype: int64"
      ]
     },
     "execution_count": 10,
     "metadata": {},
     "output_type": "execute_result"
    }
   ],
   "source": [
    "df.isnull().sum()"
   ]
  },
  {
   "cell_type": "markdown",
   "id": "7de4efbe",
   "metadata": {},
   "source": [
    "#### To address the null values in our dataset, we will examine the statistics of the affected columns and determine how best to replace the missing data.\n",
    "#### To achieve this, we created a custom function that calculates the minimum, maximum, mean, median, and mode of a column and displays the results. Although we could have used the describe() method for this purpose, we developed this function to avoid displaying all of the details for each column. The get_stats() function has two parameters: the name of the column for which we require statistics and a boolean value that indicates whether or not to calculate and display the mode. As we don't need the mode for all columns, it will only be computed and shown if the boolean value is set to true"
   ]
  },
  {
   "cell_type": "code",
   "execution_count": 11,
   "id": "15da4d24",
   "metadata": {},
   "outputs": [],
   "source": [
    "def get_stats(colName, mode):\n",
    "    print(\"The minimum value of \"+ colName + \" is: \" + str((df[colName]).min()))\n",
    "    print(\"The maximum value of \"+ colName + \" is: \" + str((df[colName]).max()))\n",
    "    print(\"The median value of \"+ colName + \" is: \" + str((df[colName]).median()))\n",
    "    print(\"The mean value of \"+ colName + \" is: \" + str((df[colName]).mean()))\n",
    "    if mode == True:\n",
    "        print(\"The mode of \"+ colName + \" is: \" + str((df[colName]).mode()[0]))\n",
    "    return None"
   ]
  },
  {
   "cell_type": "markdown",
   "id": "f2845278",
   "metadata": {},
   "source": [
    "#### Statistics of the rate_of_interest column"
   ]
  },
  {
   "cell_type": "code",
   "execution_count": 12,
   "id": "a4feb9ed",
   "metadata": {},
   "outputs": [
    {
     "name": "stdout",
     "output_type": "stream",
     "text": [
      "The minimum value of rate_of_interest is: 0.0\n",
      "The maximum value of rate_of_interest is: 8.0\n",
      "The median value of rate_of_interest is: 3.99\n",
      "The mean value of rate_of_interest is: 4.045475804367777\n"
     ]
    }
   ],
   "source": [
    "get_stats(\"rate_of_interest\", False)"
   ]
  },
  {
   "cell_type": "markdown",
   "id": "256a8e10",
   "metadata": {},
   "source": [
    "#### Statistics of the Interest_rate_spread column"
   ]
  },
  {
   "cell_type": "code",
   "execution_count": 13,
   "id": "44858288",
   "metadata": {},
   "outputs": [
    {
     "name": "stdout",
     "output_type": "stream",
     "text": [
      "The minimum value of Interest_rate_spread is: -3.638\n",
      "The maximum value of Interest_rate_spread is: 3.357\n",
      "The median value of Interest_rate_spread is: 0.3904\n",
      "The mean value of Interest_rate_spread is: 0.4416556604868295\n"
     ]
    }
   ],
   "source": [
    "get_stats(\"Interest_rate_spread\", False)"
   ]
  },
  {
   "cell_type": "markdown",
   "id": "358d48a2",
   "metadata": {},
   "source": [
    "#### Statistics of the upfront_charges column"
   ]
  },
  {
   "cell_type": "code",
   "execution_count": 14,
   "id": "426d8d1f",
   "metadata": {},
   "outputs": [
    {
     "name": "stdout",
     "output_type": "stream",
     "text": [
      "The minimum value of Upfront_charges is: 0.0\n",
      "The maximum value of Upfront_charges is: 60000.0\n",
      "The median value of Upfront_charges is: 2596.45\n",
      "The mean value of Upfront_charges is: 3224.996126591334\n"
     ]
    }
   ],
   "source": [
    "get_stats(\"Upfront_charges\", False)"
   ]
  },
  {
   "cell_type": "markdown",
   "id": "00e15052",
   "metadata": {},
   "source": [
    "#### Statistics of the term column"
   ]
  },
  {
   "cell_type": "code",
   "execution_count": 15,
   "id": "7504ed9e",
   "metadata": {},
   "outputs": [
    {
     "name": "stdout",
     "output_type": "stream",
     "text": [
      "The minimum value of term is: 96.0\n",
      "The maximum value of term is: 360.0\n",
      "The median value of term is: 360.0\n",
      "The mean value of term is: 335.1365816899797\n",
      "The mode of term is: 360.0\n"
     ]
    }
   ],
   "source": [
    "get_stats(\"term\", True)"
   ]
  },
  {
   "cell_type": "markdown",
   "id": "7edb1c4c",
   "metadata": {},
   "source": [
    "#### We observed that the Neg_ammortization column contains only two distinct values. To determine which of these values to use for replacing the null values, we counted the frequency of each value. We will select the value with the highest count as the mode and use it for filling in the missing data."
   ]
  },
  {
   "cell_type": "code",
   "execution_count": 16,
   "id": "1db69d68",
   "metadata": {
    "id": "1db69d68",
    "outputId": "7757b290-7544-4fc2-fa07-14fc009871a7"
   },
   "outputs": [
    {
     "name": "stdout",
     "output_type": "stream",
     "text": [
      "not_neg    133420\n",
      "neg_amm     15129\n",
      "Name: Neg_ammortization, dtype: int64\n"
     ]
    }
   ],
   "source": [
    "print(df['Neg_ammortization'].value_counts())"
   ]
  },
  {
   "cell_type": "markdown",
   "id": "05fafc21",
   "metadata": {},
   "source": [
    "#### Statistics of the property_value column"
   ]
  },
  {
   "cell_type": "code",
   "execution_count": 17,
   "id": "26235130",
   "metadata": {},
   "outputs": [
    {
     "name": "stdout",
     "output_type": "stream",
     "text": [
      "The minimum value of property_value is: 8000.0\n",
      "The maximum value of property_value is: 16508000.0\n",
      "The median value of property_value is: 418000.0\n",
      "The mean value of property_value is: 497893.46569640347\n",
      "The mode of property_value is: 308000.0\n"
     ]
    }
   ],
   "source": [
    "get_stats(\"property_value\", True)"
   ]
  },
  {
   "cell_type": "markdown",
   "id": "b0c30cfd",
   "metadata": {},
   "source": [
    "#### Statistics of the LTV (Loan to Value Ratio) column"
   ]
  },
  {
   "cell_type": "code",
   "execution_count": 18,
   "id": "2b961df8",
   "metadata": {},
   "outputs": [
    {
     "name": "stdout",
     "output_type": "stream",
     "text": [
      "The minimum value of LTV is: 0.967478198\n",
      "The maximum value of LTV is: 7831.25\n",
      "The median value of LTV is: 75.13586957\n",
      "The mean value of LTV is: 72.74645733387138\n",
      "The mode of LTV is: 81.25\n"
     ]
    }
   ],
   "source": [
    "get_stats(\"LTV\", True)"
   ]
  },
  {
   "cell_type": "markdown",
   "id": "ba1be68b",
   "metadata": {},
   "source": [
    "#### Statistics of the DTIR1 (Debt to Income Ratio) column"
   ]
  },
  {
   "cell_type": "code",
   "execution_count": 19,
   "id": "94384fe9",
   "metadata": {},
   "outputs": [
    {
     "name": "stdout",
     "output_type": "stream",
     "text": [
      "The minimum value of dtir1 is: 5.0\n",
      "The maximum value of dtir1 is: 61.0\n",
      "The median value of dtir1 is: 39.0\n",
      "The mean value of dtir1 is: 37.73293242017198\n",
      "The mode of dtir1 is: 37.0\n"
     ]
    }
   ],
   "source": [
    "get_stats(\"dtir1\", True)"
   ]
  },
  {
   "cell_type": "markdown",
   "id": "1c30f857",
   "metadata": {},
   "source": [
    "#### After analyzing the statistics of the affected columns, we filled the null values with the appropriate measure of central tendency. We then verified whether the null values were successfully replaced."
   ]
  },
  {
   "cell_type": "code",
   "execution_count": 20,
   "id": "4e98c684",
   "metadata": {
    "id": "4e98c684",
    "outputId": "ea19c075-28f9-425e-c173-3b50f4a4e9a9"
   },
   "outputs": [
    {
     "data": {
      "text/plain": [
       "loan_limit                   3344\n",
       "Gender                          0\n",
       "approv_in_adv                 908\n",
       "loan_type                       0\n",
       "loan_purpose                  134\n",
       "Credit_Worthiness               0\n",
       "open_credit                     0\n",
       "business_or_commercial          0\n",
       "loan_amount                     0\n",
       "rate_of_interest                0\n",
       "Interest_rate_spread            0\n",
       "Upfront_charges                 0\n",
       "term                            0\n",
       "Neg_ammortization               0\n",
       "interest_only                   0\n",
       "lump_sum_payment                0\n",
       "property_value                  0\n",
       "construction_type               0\n",
       "occupancy_type                  0\n",
       "total_units                     0\n",
       "income                          0\n",
       "credit_type                     0\n",
       "Credit_Score                    0\n",
       "co-applicant_credit_type        0\n",
       "age                           200\n",
       "submission_of_application     200\n",
       "LTV                             0\n",
       "Region                          0\n",
       "Status                          0\n",
       "dtir1                           0\n",
       "dtype: int64"
      ]
     },
     "execution_count": 20,
     "metadata": {},
     "output_type": "execute_result"
    }
   ],
   "source": [
    "df['income'].fillna(value=df['income'].median(), inplace=True)\n",
    "df['rate_of_interest'].fillna(value=df['rate_of_interest'].median(), inplace=True)\n",
    "df['Interest_rate_spread'].fillna(value=df['Interest_rate_spread'].median(), inplace=True)\n",
    "df['Upfront_charges'].fillna(value=df['Upfront_charges'].mean(), inplace=True)\n",
    "df['term'].fillna(value=df['term'].mode()[0], inplace=True)\n",
    "df['Neg_ammortization'].fillna(value=df['Neg_ammortization'].mode()[0], inplace=True)\n",
    "df['property_value'].fillna(value=df['property_value'].mean(), inplace=True)\n",
    "df['LTV'].fillna(value=df['LTV'].mean(), inplace=True)\n",
    "df['dtir1'].fillna(value=df['dtir1'].median(), inplace=True)\n",
    "\n",
    "df.isnull().sum()"
   ]
  },
  {
   "cell_type": "markdown",
   "id": "89b0de65",
   "metadata": {},
   "source": [
    "#### We investigated the number of null values in each column and analyzed their relationship with the values in the status column. Specifically, we checked for the column with the maximum number of null values relative to the values in the status column."
   ]
  },
  {
   "cell_type": "code",
   "execution_count": 21,
   "id": "8d85e5d2",
   "metadata": {
    "id": "8d85e5d2",
    "outputId": "a93fa076-5f30-4838-bfa7-d492f9f3f259"
   },
   "outputs": [
    {
     "name": "stdout",
     "output_type": "stream",
     "text": [
      "Maximum number of null values in the class 0: 2463\n",
      "Maximum number of null values in the class 1: 881\n"
     ]
    }
   ],
   "source": [
    "null_cols_status_0 = df[df[\"Status\"] == 0].isnull().sum() # we can also use isnull method both are same\n",
    "null_cols_status_1 = df[df[\"Status\"] == 1].isnull().sum() # we can also use isnull method both are same\n",
    "\n",
    "print (f\"Maximum number of null values in the class 0: {np.max(null_cols_status_0)}\")\n",
    "print (f\"Maximum number of null values in the class 1: {np.max(null_cols_status_1)}\")"
   ]
  },
  {
   "cell_type": "markdown",
   "id": "4f080a49",
   "metadata": {},
   "source": [
    "#### We observed that the null values were distributed proportionally to the values in the status column. As a result, we concluded that it would be safe to drop the remaining null value rows without losing a significant amount of valuable data."
   ]
  },
  {
   "cell_type": "code",
   "execution_count": 22,
   "id": "dc9dbddc",
   "metadata": {
    "id": "dc9dbddc",
    "outputId": "caaa0dd6-03d7-4c9c-cec0-de796412bcb3"
   },
   "outputs": [
    {
     "name": "stdout",
     "output_type": "stream",
     "text": [
      "The number of null values in the dataset is:  0\n"
     ]
    }
   ],
   "source": [
    "df.dropna(inplace=True)\n",
    "print(\"The number of null values in the dataset is: \", df.isnull().sum().sum())"
   ]
  },
  {
   "cell_type": "markdown",
   "id": "2d768915",
   "metadata": {},
   "source": [
    "## Part 2 : Data Analysis"
   ]
  },
  {
   "cell_type": "markdown",
   "id": "4b4c333d",
   "metadata": {},
   "source": [
    "#### In order to improve the display of plots in the exploratory data analysis section, we made a copy of our dataset and converted the categorical variable values of the status column from 0 and 1 to Did not Default and Defaulted."
   ]
  },
  {
   "cell_type": "code",
   "execution_count": 23,
   "id": "ca81a7d4",
   "metadata": {
    "id": "ca81a7d4"
   },
   "outputs": [],
   "source": [
    "plot_data = df.copy()\n",
    "df['Status'] = plot_data['Status'].astype('category')\n",
    "change={0:'Did not Default',1:'Defaulted'}\n",
    "plot_data['Status'] = plot_data['Status'].replace(change)"
   ]
  },
  {
   "cell_type": "markdown",
   "id": "3b7710f6",
   "metadata": {},
   "source": [
    "#### Plot 1: A bargraph of the Defaulters and Non-Defaulters, income as the y-axis and split the Loan holders by their genders "
   ]
  },
  {
   "cell_type": "code",
   "execution_count": 26,
   "id": "d6fc10a0",
   "metadata": {
    "id": "d6fc10a0",
    "outputId": "bd5f0a23-fdf1-4d6a-e082-2f792d7b54ad"
   },
   "outputs": [
    {
     "data": {
      "image/png": "[encoded data removed]",
      "text/plain": [
       "<Figure size 1200x600 with 1 Axes>"
      ]
     },
     "metadata": {},
     "output_type": "display_data"
    }
   ],
   "source": [
    "fig, ax = plt.subplots()\n",
    "sns.barplot(data=plot_data, x='Status', y='income', hue='Gender')\n",
    "fig.set_size_inches([12,6])\n",
    "plt.title(\"Default Status based on Income and Gender\")\n",
    "plt.savefig('Default:Income&Gender.png')\n",
    "plt.show()"
   ]
  },
  {
   "cell_type": "markdown",
   "id": "bbceb9c5",
   "metadata": {},
   "source": [
    "#### Plot 2: A bargraph of the Defaulters and Non-Defaulters, loan_amount as the y-axis and split the Loan holders by their age"
   ]
  },
  {
   "cell_type": "code",
   "execution_count": 27,
   "id": "6638b0e8",
   "metadata": {
    "id": "6638b0e8",
    "outputId": "0adc8fe8-7db6-4e1e-c1ff-33020a0cf0b5"
   },
   "outputs": [
    {
     "data": {
      "image/png": "[encoded data removed]",
      "text/plain": [
       "<Figure size 1200x600 with 1 Axes>"
      ]
     },
     "metadata": {},
     "output_type": "display_data"
    }
   ],
   "source": [
    "fig,ax=plt.subplots()\n",
    "sns.barplot(data=plot_data,x='Status',y='loan_amount',hue='age')\n",
    "fig.set_size_inches([12,6])\n",
    "plt.title(\"Default Status based on Age and Loan Amount\")\n",
    "plt.savefig(\"Default:Age&Amount.png\")\n",
    "plt.show()"
   ]
  },
  {
   "cell_type": "markdown",
   "id": "c705b504",
   "metadata": {},
   "source": [
    "#### Plot 3:  Scatter plot of the loan amount vs the property value, and Visualizing the results with the term of the loan as the hue of the scatterplot points"
   ]
  },
  {
   "cell_type": "code",
   "execution_count": 28,
   "id": "aada2153",
   "metadata": {
    "id": "aada2153",
    "outputId": "e400b02c-bedc-40c1-9997-6538f0984d98"
   },
   "outputs": [
    {
     "data": {
      "image/png": "[encoded data removed]",
      "text/plain": [
       "<Figure size 1200x600 with 1 Axes>"
      ]
     },
     "metadata": {},
     "output_type": "display_data"
    }
   ],
   "source": [
    "fig,ax=plt.subplots()\n",
    "sns.scatterplot(data=plot_data, x=\"loan_amount\", y=\"property_value\", hue=\"term\").set(title='Loan Amount v/s Property Value with Loan Term', facecolor=\"white\")\n",
    "plt.xlabel(\"Loan Amount\")\n",
    "plt.ylabel(\"Property Value\")\n",
    "fig.set_size_inches([12,6])\n",
    "plt.savefig(\"LoanvsProperty.png\")\n",
    "plt.show()"
   ]
  },
  {
   "cell_type": "markdown",
   "id": "bb78f757",
   "metadata": {},
   "source": [
    "#### Plot 4: Scatter plot of the loan amount vs. interest rate"
   ]
  },
  {
   "cell_type": "code",
   "execution_count": 29,
   "id": "6938f4ae",
   "metadata": {
    "id": "6938f4ae",
    "outputId": "97960d90-6fe3-470a-a8f5-2c6945740b12"
   },
   "outputs": [
    {
     "data": {
      "image/png": "[encoded data removed]",
      "text/plain": [
       "<Figure size 1200x600 with 1 Axes>"
      ]
     },
     "metadata": {},
     "output_type": "display_data"
    }
   ],
   "source": [
    "fig,ax=plt.subplots()\n",
    "plt.scatter(plot_data['loan_amount'],df['rate_of_interest'])\n",
    "plt.xlabel(\"Loan amount\")\n",
    "plt.ylabel(\"Interest Rate\")\n",
    "fig.set_size_inches([12,6])\n",
    "ax.set_facecolor(color=\"white\")\n",
    "plt.title(\"Loan amount v/s Interest Rate\")\n",
    "plt.savefig(\"LoanvsInterest.png\")\n",
    "plt.show()"
   ]
  },
  {
   "cell_type": "markdown",
   "id": "65fc2b95",
   "metadata": {},
   "source": [
    "## Part 3: Feature Scaling"
   ]
  },
  {
   "cell_type": "markdown",
   "id": "6cba7346",
   "metadata": {},
   "source": [
    "### a. Categorical Features"
   ]
  },
  {
   "cell_type": "markdown",
   "id": "452c6f18",
   "metadata": {},
   "source": [
    "#### To analyze the categorical data in our dataset, we first identify the columns with categorical data by looking at the number of unique values in each column. We set a threshold of 10 unique values per column, but we find that none of the columns exceed this threshold. Based on this analysis, we decide to convert these columns to categorical data type for ease of analysis."
   ]
  },
  {
   "cell_type": "code",
   "execution_count": 30,
   "id": "272e32c4",
   "metadata": {
    "id": "272e32c4",
    "outputId": "d879ef1a-c5b1-467e-8519-69f02f02930d"
   },
   "outputs": [
    {
     "name": "stdout",
     "output_type": "stream",
     "text": [
      "1. loan_limit has 2 unique values, which are ['cf' 'ncf']\n",
      "2. Gender has 4 unique values, which are ['Sex Not Available' 'Male' 'Joint' 'Female']\n",
      "3. approv_in_adv has 2 unique values, which are ['nopre' 'pre']\n",
      "4. loan_type has 3 unique values, which are ['type1' 'type2' 'type3']\n",
      "5. loan_purpose has 4 unique values, which are ['p1' 'p4' 'p3' 'p2']\n",
      "6. Credit_Worthiness has 2 unique values, which are ['l1' 'l2']\n",
      "7. open_credit has 2 unique values, which are ['nopc' 'opc']\n",
      "8. business_or_commercial has 2 unique values, which are ['nob/c' 'b/c']\n",
      "14. Neg_ammortization has 2 unique values, which are ['not_neg' 'neg_amm']\n",
      "15. interest_only has 2 unique values, which are ['not_int' 'int_only']\n",
      "16. lump_sum_payment has 2 unique values, which are ['not_lpsm' 'lpsm']\n",
      "18. construction_type has 2 unique values, which are ['sb' 'mh']\n",
      "19. occupancy_type has 3 unique values, which are ['pr' 'sr' 'ir']\n",
      "20. total_units has 4 unique values, which are ['1U' '2U' '3U' '4U']\n",
      "22. credit_type has 4 unique values, which are ['EXP' 'EQUI' 'CRIF' 'CIB']\n",
      "24. co-applicant_credit_type has 2 unique values, which are ['CIB' 'EXP']\n",
      "25. age has 7 unique values, which are ['25-34' '55-64' '35-44' '45-54' '65-74' '>74' '<25']\n",
      "26. submission_of_application has 2 unique values, which are ['to_inst' 'not_inst']\n",
      "28. Region has 4 unique values, which are ['south' 'North' 'central' 'North-East']\n",
      "29. Status has 2 unique values, which are [1, 0]\n",
      "Categories (2, int64): [0, 1]\n"
     ]
    }
   ],
   "source": [
    "n_unique_values = 10\n",
    "all_columns = df.columns.to_list()\n",
    "categorical_columns = []\n",
    "\n",
    "for i, column in enumerate(all_columns):\n",
    "    temp = df.loc[:, column].unique()\n",
    "    if len(temp) < n_unique_values:\n",
    "        print (f\"{i+1}. {column} has {len(temp)} unique values, which are {temp}\") \n",
    "        categorical_columns.append(column)\n",
    "del temp"
   ]
  },
  {
   "cell_type": "markdown",
   "id": "ce1c6988",
   "metadata": {},
   "source": [
    "####  Now creating a new DataFrame with only the categorical columns from the original DataFrame. The Status column is dropped since no normalization or scaling is performed on it as it is the target variable."
   ]
  },
  {
   "cell_type": "code",
   "execution_count": 31,
   "id": "d84adbfe",
   "metadata": {
    "id": "d84adbfe",
    "outputId": "30e088bf-a2a4-4dcc-8c44-ee5b33d5f035"
   },
   "outputs": [
    {
     "data": {
      "text/html": [
       "<div>\n",
       "<style scoped>\n",
       "    .dataframe tbody tr th:only-of-type {\n",
       "        vertical-align: middle;\n",
       "    }\n",
       "\n",
       "    .dataframe tbody tr th {\n",
       "        vertical-align: top;\n",
       "    }\n",
       "\n",
       "    .dataframe thead th {\n",
       "        text-align: right;\n",
       "    }\n",
       "</style>\n",
       "<table border=\"1\" class=\"dataframe\">\n",
       "  <thead>\n",
       "    <tr style=\"text-align: right;\">\n",
       "      <th></th>\n",
       "      <th>loan_limit</th>\n",
       "      <th>Gender</th>\n",
       "      <th>approv_in_adv</th>\n",
       "      <th>loan_type</th>\n",
       "      <th>loan_purpose</th>\n",
       "      <th>Credit_Worthiness</th>\n",
       "      <th>open_credit</th>\n",
       "      <th>business_or_commercial</th>\n",
       "      <th>Neg_ammortization</th>\n",
       "      <th>interest_only</th>\n",
       "      <th>lump_sum_payment</th>\n",
       "      <th>construction_type</th>\n",
       "      <th>occupancy_type</th>\n",
       "      <th>total_units</th>\n",
       "      <th>credit_type</th>\n",
       "      <th>co-applicant_credit_type</th>\n",
       "      <th>age</th>\n",
       "      <th>submission_of_application</th>\n",
       "      <th>Region</th>\n",
       "    </tr>\n",
       "  </thead>\n",
       "  <tbody>\n",
       "    <tr>\n",
       "      <th>0</th>\n",
       "      <td>cf</td>\n",
       "      <td>Sex Not Available</td>\n",
       "      <td>nopre</td>\n",
       "      <td>type1</td>\n",
       "      <td>p1</td>\n",
       "      <td>l1</td>\n",
       "      <td>nopc</td>\n",
       "      <td>nob/c</td>\n",
       "      <td>not_neg</td>\n",
       "      <td>not_int</td>\n",
       "      <td>not_lpsm</td>\n",
       "      <td>sb</td>\n",
       "      <td>pr</td>\n",
       "      <td>1U</td>\n",
       "      <td>EXP</td>\n",
       "      <td>CIB</td>\n",
       "      <td>25-34</td>\n",
       "      <td>to_inst</td>\n",
       "      <td>south</td>\n",
       "    </tr>\n",
       "    <tr>\n",
       "      <th>1</th>\n",
       "      <td>cf</td>\n",
       "      <td>Male</td>\n",
       "      <td>nopre</td>\n",
       "      <td>type2</td>\n",
       "      <td>p1</td>\n",
       "      <td>l1</td>\n",
       "      <td>nopc</td>\n",
       "      <td>b/c</td>\n",
       "      <td>not_neg</td>\n",
       "      <td>not_int</td>\n",
       "      <td>lpsm</td>\n",
       "      <td>sb</td>\n",
       "      <td>pr</td>\n",
       "      <td>1U</td>\n",
       "      <td>EQUI</td>\n",
       "      <td>EXP</td>\n",
       "      <td>55-64</td>\n",
       "      <td>to_inst</td>\n",
       "      <td>North</td>\n",
       "    </tr>\n",
       "    <tr>\n",
       "      <th>2</th>\n",
       "      <td>cf</td>\n",
       "      <td>Male</td>\n",
       "      <td>pre</td>\n",
       "      <td>type1</td>\n",
       "      <td>p1</td>\n",
       "      <td>l1</td>\n",
       "      <td>nopc</td>\n",
       "      <td>nob/c</td>\n",
       "      <td>neg_amm</td>\n",
       "      <td>not_int</td>\n",
       "      <td>not_lpsm</td>\n",
       "      <td>sb</td>\n",
       "      <td>pr</td>\n",
       "      <td>1U</td>\n",
       "      <td>EXP</td>\n",
       "      <td>CIB</td>\n",
       "      <td>35-44</td>\n",
       "      <td>to_inst</td>\n",
       "      <td>south</td>\n",
       "    </tr>\n",
       "    <tr>\n",
       "      <th>3</th>\n",
       "      <td>cf</td>\n",
       "      <td>Male</td>\n",
       "      <td>nopre</td>\n",
       "      <td>type1</td>\n",
       "      <td>p4</td>\n",
       "      <td>l1</td>\n",
       "      <td>nopc</td>\n",
       "      <td>nob/c</td>\n",
       "      <td>not_neg</td>\n",
       "      <td>not_int</td>\n",
       "      <td>not_lpsm</td>\n",
       "      <td>sb</td>\n",
       "      <td>pr</td>\n",
       "      <td>1U</td>\n",
       "      <td>EXP</td>\n",
       "      <td>CIB</td>\n",
       "      <td>45-54</td>\n",
       "      <td>not_inst</td>\n",
       "      <td>North</td>\n",
       "    </tr>\n",
       "    <tr>\n",
       "      <th>4</th>\n",
       "      <td>cf</td>\n",
       "      <td>Joint</td>\n",
       "      <td>pre</td>\n",
       "      <td>type1</td>\n",
       "      <td>p1</td>\n",
       "      <td>l1</td>\n",
       "      <td>nopc</td>\n",
       "      <td>nob/c</td>\n",
       "      <td>not_neg</td>\n",
       "      <td>not_int</td>\n",
       "      <td>not_lpsm</td>\n",
       "      <td>sb</td>\n",
       "      <td>pr</td>\n",
       "      <td>1U</td>\n",
       "      <td>CRIF</td>\n",
       "      <td>EXP</td>\n",
       "      <td>25-34</td>\n",
       "      <td>not_inst</td>\n",
       "      <td>North</td>\n",
       "    </tr>\n",
       "  </tbody>\n",
       "</table>\n",
       "</div>"
      ],
      "text/plain": [
       "  loan_limit             Gender approv_in_adv loan_type loan_purpose  \\\n",
       "0         cf  Sex Not Available         nopre     type1           p1   \n",
       "1         cf               Male         nopre     type2           p1   \n",
       "2         cf               Male           pre     type1           p1   \n",
       "3         cf               Male         nopre     type1           p4   \n",
       "4         cf              Joint           pre     type1           p1   \n",
       "\n",
       "  Credit_Worthiness open_credit business_or_commercial Neg_ammortization  \\\n",
       "0                l1        nopc                  nob/c           not_neg   \n",
       "1                l1        nopc                    b/c           not_neg   \n",
       "2                l1        nopc                  nob/c           neg_amm   \n",
       "3                l1        nopc                  nob/c           not_neg   \n",
       "4                l1        nopc                  nob/c           not_neg   \n",
       "\n",
       "  interest_only lump_sum_payment construction_type occupancy_type total_units  \\\n",
       "0       not_int         not_lpsm                sb             pr          1U   \n",
       "1       not_int             lpsm                sb             pr          1U   \n",
       "2       not_int         not_lpsm                sb             pr          1U   \n",
       "3       not_int         not_lpsm                sb             pr          1U   \n",
       "4       not_int         not_lpsm                sb             pr          1U   \n",
       "\n",
       "  credit_type co-applicant_credit_type    age submission_of_application Region  \n",
       "0         EXP                      CIB  25-34                   to_inst  south  \n",
       "1        EQUI                      EXP  55-64                   to_inst  North  \n",
       "2         EXP                      CIB  35-44                   to_inst  south  \n",
       "3         EXP                      CIB  45-54                  not_inst  North  \n",
       "4        CRIF                      EXP  25-34                  not_inst  North  "
      ]
     },
     "execution_count": 31,
     "metadata": {},
     "output_type": "execute_result"
    }
   ],
   "source": [
    "cat_columns = df[categorical_columns]\n",
    "cat_columns = cat_columns.drop(columns=['Status'])\n",
    "cat_columns.head()"
   ]
  },
  {
   "cell_type": "markdown",
   "id": "a4cf4b3d",
   "metadata": {},
   "source": [
    "#### In the code block above, we use the pd.get_dummies() function to one-hot-encode the categorical column data. This function converts each categorical value in the column into a separate binary column, which contains a 1 or 0 depending on whether that value is present in the original column. This makes it easier for our machine learning model to process the data and understand the relationships between the features. We then drop the original categorical columns, as they are no longer needed."
   ]
  },
  {
   "cell_type": "code",
   "execution_count": 32,
   "id": "25b0a286",
   "metadata": {
    "id": "25b0a286",
    "outputId": "f75a00f5-62ef-4fb3-cb4c-d5ae6c2563e3"
   },
   "outputs": [
    {
     "data": {
      "text/html": [
       "<div>\n",
       "<style scoped>\n",
       "    .dataframe tbody tr th:only-of-type {\n",
       "        vertical-align: middle;\n",
       "    }\n",
       "\n",
       "    .dataframe tbody tr th {\n",
       "        vertical-align: top;\n",
       "    }\n",
       "\n",
       "    .dataframe thead th {\n",
       "        text-align: right;\n",
       "    }\n",
       "</style>\n",
       "<table border=\"1\" class=\"dataframe\">\n",
       "  <thead>\n",
       "    <tr style=\"text-align: right;\">\n",
       "      <th></th>\n",
       "      <th>loan_limit_cf</th>\n",
       "      <th>loan_limit_ncf</th>\n",
       "      <th>Gender_Female</th>\n",
       "      <th>Gender_Joint</th>\n",
       "      <th>Gender_Male</th>\n",
       "      <th>Gender_Sex Not Available</th>\n",
       "      <th>approv_in_adv_nopre</th>\n",
       "      <th>approv_in_adv_pre</th>\n",
       "      <th>loan_type_type1</th>\n",
       "      <th>loan_type_type2</th>\n",
       "      <th>loan_type_type3</th>\n",
       "      <th>loan_purpose_p1</th>\n",
       "      <th>loan_purpose_p2</th>\n",
       "      <th>loan_purpose_p3</th>\n",
       "      <th>loan_purpose_p4</th>\n",
       "      <th>Credit_Worthiness_l1</th>\n",
       "      <th>Credit_Worthiness_l2</th>\n",
       "      <th>open_credit_nopc</th>\n",
       "      <th>open_credit_opc</th>\n",
       "      <th>business_or_commercial_b/c</th>\n",
       "      <th>business_or_commercial_nob/c</th>\n",
       "      <th>Neg_ammortization_neg_amm</th>\n",
       "      <th>Neg_ammortization_not_neg</th>\n",
       "      <th>interest_only_int_only</th>\n",
       "      <th>interest_only_not_int</th>\n",
       "      <th>lump_sum_payment_lpsm</th>\n",
       "      <th>lump_sum_payment_not_lpsm</th>\n",
       "      <th>construction_type_mh</th>\n",
       "      <th>construction_type_sb</th>\n",
       "      <th>occupancy_type_ir</th>\n",
       "      <th>occupancy_type_pr</th>\n",
       "      <th>occupancy_type_sr</th>\n",
       "      <th>total_units_1U</th>\n",
       "      <th>total_units_2U</th>\n",
       "      <th>total_units_3U</th>\n",
       "      <th>total_units_4U</th>\n",
       "      <th>credit_type_CIB</th>\n",
       "      <th>credit_type_CRIF</th>\n",
       "      <th>credit_type_EQUI</th>\n",
       "      <th>credit_type_EXP</th>\n",
       "      <th>co-applicant_credit_type_CIB</th>\n",
       "      <th>co-applicant_credit_type_EXP</th>\n",
       "      <th>age_25-34</th>\n",
       "      <th>age_35-44</th>\n",
       "      <th>age_45-54</th>\n",
       "      <th>age_55-64</th>\n",
       "      <th>age_65-74</th>\n",
       "      <th>age_&lt;25</th>\n",
       "      <th>age_&gt;74</th>\n",
       "      <th>submission_of_application_not_inst</th>\n",
       "      <th>submission_of_application_to_inst</th>\n",
       "      <th>Region_North</th>\n",
       "      <th>Region_North-East</th>\n",
       "      <th>Region_central</th>\n",
       "      <th>Region_south</th>\n",
       "    </tr>\n",
       "  </thead>\n",
       "  <tbody>\n",
       "    <tr>\n",
       "      <th>0</th>\n",
       "      <td>1</td>\n",
       "      <td>0</td>\n",
       "      <td>0</td>\n",
       "      <td>0</td>\n",
       "      <td>0</td>\n",
       "      <td>1</td>\n",
       "      <td>1</td>\n",
       "      <td>0</td>\n",
       "      <td>1</td>\n",
       "      <td>0</td>\n",
       "      <td>0</td>\n",
       "      <td>1</td>\n",
       "      <td>0</td>\n",
       "      <td>0</td>\n",
       "      <td>0</td>\n",
       "      <td>1</td>\n",
       "      <td>0</td>\n",
       "      <td>1</td>\n",
       "      <td>0</td>\n",
       "      <td>0</td>\n",
       "      <td>1</td>\n",
       "      <td>0</td>\n",
       "      <td>1</td>\n",
       "      <td>0</td>\n",
       "      <td>1</td>\n",
       "      <td>0</td>\n",
       "      <td>1</td>\n",
       "      <td>0</td>\n",
       "      <td>1</td>\n",
       "      <td>0</td>\n",
       "      <td>1</td>\n",
       "      <td>0</td>\n",
       "      <td>1</td>\n",
       "      <td>0</td>\n",
       "      <td>0</td>\n",
       "      <td>0</td>\n",
       "      <td>0</td>\n",
       "      <td>0</td>\n",
       "      <td>0</td>\n",
       "      <td>1</td>\n",
       "      <td>1</td>\n",
       "      <td>0</td>\n",
       "      <td>1</td>\n",
       "      <td>0</td>\n",
       "      <td>0</td>\n",
       "      <td>0</td>\n",
       "      <td>0</td>\n",
       "      <td>0</td>\n",
       "      <td>0</td>\n",
       "      <td>0</td>\n",
       "      <td>1</td>\n",
       "      <td>0</td>\n",
       "      <td>0</td>\n",
       "      <td>0</td>\n",
       "      <td>1</td>\n",
       "    </tr>\n",
       "    <tr>\n",
       "      <th>1</th>\n",
       "      <td>1</td>\n",
       "      <td>0</td>\n",
       "      <td>0</td>\n",
       "      <td>0</td>\n",
       "      <td>1</td>\n",
       "      <td>0</td>\n",
       "      <td>1</td>\n",
       "      <td>0</td>\n",
       "      <td>0</td>\n",
       "      <td>1</td>\n",
       "      <td>0</td>\n",
       "      <td>1</td>\n",
       "      <td>0</td>\n",
       "      <td>0</td>\n",
       "      <td>0</td>\n",
       "      <td>1</td>\n",
       "      <td>0</td>\n",
       "      <td>1</td>\n",
       "      <td>0</td>\n",
       "      <td>1</td>\n",
       "      <td>0</td>\n",
       "      <td>0</td>\n",
       "      <td>1</td>\n",
       "      <td>0</td>\n",
       "      <td>1</td>\n",
       "      <td>1</td>\n",
       "      <td>0</td>\n",
       "      <td>0</td>\n",
       "      <td>1</td>\n",
       "      <td>0</td>\n",
       "      <td>1</td>\n",
       "      <td>0</td>\n",
       "      <td>1</td>\n",
       "      <td>0</td>\n",
       "      <td>0</td>\n",
       "      <td>0</td>\n",
       "      <td>0</td>\n",
       "      <td>0</td>\n",
       "      <td>1</td>\n",
       "      <td>0</td>\n",
       "      <td>0</td>\n",
       "      <td>1</td>\n",
       "      <td>0</td>\n",
       "      <td>0</td>\n",
       "      <td>0</td>\n",
       "      <td>1</td>\n",
       "      <td>0</td>\n",
       "      <td>0</td>\n",
       "      <td>0</td>\n",
       "      <td>0</td>\n",
       "      <td>1</td>\n",
       "      <td>1</td>\n",
       "      <td>0</td>\n",
       "      <td>0</td>\n",
       "      <td>0</td>\n",
       "    </tr>\n",
       "    <tr>\n",
       "      <th>2</th>\n",
       "      <td>1</td>\n",
       "      <td>0</td>\n",
       "      <td>0</td>\n",
       "      <td>0</td>\n",
       "      <td>1</td>\n",
       "      <td>0</td>\n",
       "      <td>0</td>\n",
       "      <td>1</td>\n",
       "      <td>1</td>\n",
       "      <td>0</td>\n",
       "      <td>0</td>\n",
       "      <td>1</td>\n",
       "      <td>0</td>\n",
       "      <td>0</td>\n",
       "      <td>0</td>\n",
       "      <td>1</td>\n",
       "      <td>0</td>\n",
       "      <td>1</td>\n",
       "      <td>0</td>\n",
       "      <td>0</td>\n",
       "      <td>1</td>\n",
       "      <td>1</td>\n",
       "      <td>0</td>\n",
       "      <td>0</td>\n",
       "      <td>1</td>\n",
       "      <td>0</td>\n",
       "      <td>1</td>\n",
       "      <td>0</td>\n",
       "      <td>1</td>\n",
       "      <td>0</td>\n",
       "      <td>1</td>\n",
       "      <td>0</td>\n",
       "      <td>1</td>\n",
       "      <td>0</td>\n",
       "      <td>0</td>\n",
       "      <td>0</td>\n",
       "      <td>0</td>\n",
       "      <td>0</td>\n",
       "      <td>0</td>\n",
       "      <td>1</td>\n",
       "      <td>1</td>\n",
       "      <td>0</td>\n",
       "      <td>0</td>\n",
       "      <td>1</td>\n",
       "      <td>0</td>\n",
       "      <td>0</td>\n",
       "      <td>0</td>\n",
       "      <td>0</td>\n",
       "      <td>0</td>\n",
       "      <td>0</td>\n",
       "      <td>1</td>\n",
       "      <td>0</td>\n",
       "      <td>0</td>\n",
       "      <td>0</td>\n",
       "      <td>1</td>\n",
       "    </tr>\n",
       "    <tr>\n",
       "      <th>3</th>\n",
       "      <td>1</td>\n",
       "      <td>0</td>\n",
       "      <td>0</td>\n",
       "      <td>0</td>\n",
       "      <td>1</td>\n",
       "      <td>0</td>\n",
       "      <td>1</td>\n",
       "      <td>0</td>\n",
       "      <td>1</td>\n",
       "      <td>0</td>\n",
       "      <td>0</td>\n",
       "      <td>0</td>\n",
       "      <td>0</td>\n",
       "      <td>0</td>\n",
       "      <td>1</td>\n",
       "      <td>1</td>\n",
       "      <td>0</td>\n",
       "      <td>1</td>\n",
       "      <td>0</td>\n",
       "      <td>0</td>\n",
       "      <td>1</td>\n",
       "      <td>0</td>\n",
       "      <td>1</td>\n",
       "      <td>0</td>\n",
       "      <td>1</td>\n",
       "      <td>0</td>\n",
       "      <td>1</td>\n",
       "      <td>0</td>\n",
       "      <td>1</td>\n",
       "      <td>0</td>\n",
       "      <td>1</td>\n",
       "      <td>0</td>\n",
       "      <td>1</td>\n",
       "      <td>0</td>\n",
       "      <td>0</td>\n",
       "      <td>0</td>\n",
       "      <td>0</td>\n",
       "      <td>0</td>\n",
       "      <td>0</td>\n",
       "      <td>1</td>\n",
       "      <td>1</td>\n",
       "      <td>0</td>\n",
       "      <td>0</td>\n",
       "      <td>0</td>\n",
       "      <td>1</td>\n",
       "      <td>0</td>\n",
       "      <td>0</td>\n",
       "      <td>0</td>\n",
       "      <td>0</td>\n",
       "      <td>1</td>\n",
       "      <td>0</td>\n",
       "      <td>1</td>\n",
       "      <td>0</td>\n",
       "      <td>0</td>\n",
       "      <td>0</td>\n",
       "    </tr>\n",
       "    <tr>\n",
       "      <th>4</th>\n",
       "      <td>1</td>\n",
       "      <td>0</td>\n",
       "      <td>0</td>\n",
       "      <td>1</td>\n",
       "      <td>0</td>\n",
       "      <td>0</td>\n",
       "      <td>0</td>\n",
       "      <td>1</td>\n",
       "      <td>1</td>\n",
       "      <td>0</td>\n",
       "      <td>0</td>\n",
       "      <td>1</td>\n",
       "      <td>0</td>\n",
       "      <td>0</td>\n",
       "      <td>0</td>\n",
       "      <td>1</td>\n",
       "      <td>0</td>\n",
       "      <td>1</td>\n",
       "      <td>0</td>\n",
       "      <td>0</td>\n",
       "      <td>1</td>\n",
       "      <td>0</td>\n",
       "      <td>1</td>\n",
       "      <td>0</td>\n",
       "      <td>1</td>\n",
       "      <td>0</td>\n",
       "      <td>1</td>\n",
       "      <td>0</td>\n",
       "      <td>1</td>\n",
       "      <td>0</td>\n",
       "      <td>1</td>\n",
       "      <td>0</td>\n",
       "      <td>1</td>\n",
       "      <td>0</td>\n",
       "      <td>0</td>\n",
       "      <td>0</td>\n",
       "      <td>0</td>\n",
       "      <td>1</td>\n",
       "      <td>0</td>\n",
       "      <td>0</td>\n",
       "      <td>0</td>\n",
       "      <td>1</td>\n",
       "      <td>1</td>\n",
       "      <td>0</td>\n",
       "      <td>0</td>\n",
       "      <td>0</td>\n",
       "      <td>0</td>\n",
       "      <td>0</td>\n",
       "      <td>0</td>\n",
       "      <td>1</td>\n",
       "      <td>0</td>\n",
       "      <td>1</td>\n",
       "      <td>0</td>\n",
       "      <td>0</td>\n",
       "      <td>0</td>\n",
       "    </tr>\n",
       "  </tbody>\n",
       "</table>\n",
       "</div>"
      ],
      "text/plain": [
       "   loan_limit_cf  loan_limit_ncf  Gender_Female  Gender_Joint  Gender_Male  \\\n",
       "0              1               0              0             0            0   \n",
       "1              1               0              0             0            1   \n",
       "2              1               0              0             0            1   \n",
       "3              1               0              0             0            1   \n",
       "4              1               0              0             1            0   \n",
       "\n",
       "   Gender_Sex Not Available  approv_in_adv_nopre  approv_in_adv_pre  \\\n",
       "0                         1                    1                  0   \n",
       "1                         0                    1                  0   \n",
       "2                         0                    0                  1   \n",
       "3                         0                    1                  0   \n",
       "4                         0                    0                  1   \n",
       "\n",
       "   loan_type_type1  loan_type_type2  loan_type_type3  loan_purpose_p1  \\\n",
       "0                1                0                0                1   \n",
       "1                0                1                0                1   \n",
       "2                1                0                0                1   \n",
       "3                1                0                0                0   \n",
       "4                1                0                0                1   \n",
       "\n",
       "   loan_purpose_p2  loan_purpose_p3  loan_purpose_p4  Credit_Worthiness_l1  \\\n",
       "0                0                0                0                     1   \n",
       "1                0                0                0                     1   \n",
       "2                0                0                0                     1   \n",
       "3                0                0                1                     1   \n",
       "4                0                0                0                     1   \n",
       "\n",
       "   Credit_Worthiness_l2  open_credit_nopc  open_credit_opc  \\\n",
       "0                     0                 1                0   \n",
       "1                     0                 1                0   \n",
       "2                     0                 1                0   \n",
       "3                     0                 1                0   \n",
       "4                     0                 1                0   \n",
       "\n",
       "   business_or_commercial_b/c  business_or_commercial_nob/c  \\\n",
       "0                           0                             1   \n",
       "1                           1                             0   \n",
       "2                           0                             1   \n",
       "3                           0                             1   \n",
       "4                           0                             1   \n",
       "\n",
       "   Neg_ammortization_neg_amm  Neg_ammortization_not_neg  \\\n",
       "0                          0                          1   \n",
       "1                          0                          1   \n",
       "2                          1                          0   \n",
       "3                          0                          1   \n",
       "4                          0                          1   \n",
       "\n",
       "   interest_only_int_only  interest_only_not_int  lump_sum_payment_lpsm  \\\n",
       "0                       0                      1                      0   \n",
       "1                       0                      1                      1   \n",
       "2                       0                      1                      0   \n",
       "3                       0                      1                      0   \n",
       "4                       0                      1                      0   \n",
       "\n",
       "   lump_sum_payment_not_lpsm  construction_type_mh  construction_type_sb  \\\n",
       "0                          1                     0                     1   \n",
       "1                          0                     0                     1   \n",
       "2                          1                     0                     1   \n",
       "3                          1                     0                     1   \n",
       "4                          1                     0                     1   \n",
       "\n",
       "   occupancy_type_ir  occupancy_type_pr  occupancy_type_sr  total_units_1U  \\\n",
       "0                  0                  1                  0               1   \n",
       "1                  0                  1                  0               1   \n",
       "2                  0                  1                  0               1   \n",
       "3                  0                  1                  0               1   \n",
       "4                  0                  1                  0               1   \n",
       "\n",
       "   total_units_2U  total_units_3U  total_units_4U  credit_type_CIB  \\\n",
       "0               0               0               0                0   \n",
       "1               0               0               0                0   \n",
       "2               0               0               0                0   \n",
       "3               0               0               0                0   \n",
       "4               0               0               0                0   \n",
       "\n",
       "   credit_type_CRIF  credit_type_EQUI  credit_type_EXP  \\\n",
       "0                 0                 0                1   \n",
       "1                 0                 1                0   \n",
       "2                 0                 0                1   \n",
       "3                 0                 0                1   \n",
       "4                 1                 0                0   \n",
       "\n",
       "   co-applicant_credit_type_CIB  co-applicant_credit_type_EXP  age_25-34  \\\n",
       "0                             1                             0          1   \n",
       "1                             0                             1          0   \n",
       "2                             1                             0          0   \n",
       "3                             1                             0          0   \n",
       "4                             0                             1          1   \n",
       "\n",
       "   age_35-44  age_45-54  age_55-64  age_65-74  age_<25  age_>74  \\\n",
       "0          0          0          0          0        0        0   \n",
       "1          0          0          1          0        0        0   \n",
       "2          1          0          0          0        0        0   \n",
       "3          0          1          0          0        0        0   \n",
       "4          0          0          0          0        0        0   \n",
       "\n",
       "   submission_of_application_not_inst  submission_of_application_to_inst  \\\n",
       "0                                   0                                  1   \n",
       "1                                   0                                  1   \n",
       "2                                   0                                  1   \n",
       "3                                   1                                  0   \n",
       "4                                   1                                  0   \n",
       "\n",
       "   Region_North  Region_North-East  Region_central  Region_south  \n",
       "0             0                  0               0             1  \n",
       "1             1                  0               0             0  \n",
       "2             0                  0               0             1  \n",
       "3             1                  0               0             0  \n",
       "4             1                  0               0             0  "
      ]
     },
     "execution_count": 32,
     "metadata": {},
     "output_type": "execute_result"
    }
   ],
   "source": [
    "cat_col_oneHot = pd.get_dummies(cat_columns)\n",
    "cat_col_oneHot.head()"
   ]
  },
  {
   "cell_type": "markdown",
   "id": "37f4d203",
   "metadata": {},
   "source": [
    "### b. Numeric Features"
   ]
  },
  {
   "cell_type": "markdown",
   "id": "790d108b",
   "metadata": {},
   "source": [
    "#### Copying the numeric columns from our original DataFrame into a new DataFrame"
   ]
  },
  {
   "cell_type": "code",
   "execution_count": 33,
   "id": "1f678f58",
   "metadata": {
    "id": "1f678f58",
    "outputId": "5c44146d-a3c8-4d85-e14e-26fa2bb7911e"
   },
   "outputs": [
    {
     "data": {
      "text/html": [
       "<div>\n",
       "<style scoped>\n",
       "    .dataframe tbody tr th:only-of-type {\n",
       "        vertical-align: middle;\n",
       "    }\n",
       "\n",
       "    .dataframe tbody tr th {\n",
       "        vertical-align: top;\n",
       "    }\n",
       "\n",
       "    .dataframe thead th {\n",
       "        text-align: right;\n",
       "    }\n",
       "</style>\n",
       "<table border=\"1\" class=\"dataframe\">\n",
       "  <thead>\n",
       "    <tr style=\"text-align: right;\">\n",
       "      <th></th>\n",
       "      <th>loan_amount</th>\n",
       "      <th>rate_of_interest</th>\n",
       "      <th>Interest_rate_spread</th>\n",
       "      <th>Upfront_charges</th>\n",
       "      <th>term</th>\n",
       "      <th>property_value</th>\n",
       "      <th>income</th>\n",
       "      <th>Credit_Score</th>\n",
       "      <th>LTV</th>\n",
       "      <th>dtir1</th>\n",
       "    </tr>\n",
       "  </thead>\n",
       "  <tbody>\n",
       "    <tr>\n",
       "      <th>0</th>\n",
       "      <td>116500</td>\n",
       "      <td>3.99</td>\n",
       "      <td>0.3904</td>\n",
       "      <td>3224.996127</td>\n",
       "      <td>360.0</td>\n",
       "      <td>118000.000000</td>\n",
       "      <td>1740.0</td>\n",
       "      <td>758</td>\n",
       "      <td>98.728814</td>\n",
       "      <td>45.0</td>\n",
       "    </tr>\n",
       "    <tr>\n",
       "      <th>1</th>\n",
       "      <td>206500</td>\n",
       "      <td>3.99</td>\n",
       "      <td>0.3904</td>\n",
       "      <td>3224.996127</td>\n",
       "      <td>360.0</td>\n",
       "      <td>497893.465696</td>\n",
       "      <td>4980.0</td>\n",
       "      <td>552</td>\n",
       "      <td>72.746457</td>\n",
       "      <td>39.0</td>\n",
       "    </tr>\n",
       "    <tr>\n",
       "      <th>2</th>\n",
       "      <td>406500</td>\n",
       "      <td>4.56</td>\n",
       "      <td>0.2000</td>\n",
       "      <td>595.000000</td>\n",
       "      <td>360.0</td>\n",
       "      <td>508000.000000</td>\n",
       "      <td>9480.0</td>\n",
       "      <td>834</td>\n",
       "      <td>80.019685</td>\n",
       "      <td>46.0</td>\n",
       "    </tr>\n",
       "    <tr>\n",
       "      <th>3</th>\n",
       "      <td>456500</td>\n",
       "      <td>4.25</td>\n",
       "      <td>0.6810</td>\n",
       "      <td>3224.996127</td>\n",
       "      <td>360.0</td>\n",
       "      <td>658000.000000</td>\n",
       "      <td>11880.0</td>\n",
       "      <td>587</td>\n",
       "      <td>69.376900</td>\n",
       "      <td>42.0</td>\n",
       "    </tr>\n",
       "    <tr>\n",
       "      <th>4</th>\n",
       "      <td>696500</td>\n",
       "      <td>4.00</td>\n",
       "      <td>0.3042</td>\n",
       "      <td>0.000000</td>\n",
       "      <td>360.0</td>\n",
       "      <td>758000.000000</td>\n",
       "      <td>10440.0</td>\n",
       "      <td>602</td>\n",
       "      <td>91.886544</td>\n",
       "      <td>39.0</td>\n",
       "    </tr>\n",
       "  </tbody>\n",
       "</table>\n",
       "</div>"
      ],
      "text/plain": [
       "   loan_amount  rate_of_interest  Interest_rate_spread  Upfront_charges  \\\n",
       "0       116500              3.99                0.3904      3224.996127   \n",
       "1       206500              3.99                0.3904      3224.996127   \n",
       "2       406500              4.56                0.2000       595.000000   \n",
       "3       456500              4.25                0.6810      3224.996127   \n",
       "4       696500              4.00                0.3042         0.000000   \n",
       "\n",
       "    term  property_value   income  Credit_Score        LTV  dtir1  \n",
       "0  360.0   118000.000000   1740.0           758  98.728814   45.0  \n",
       "1  360.0   497893.465696   4980.0           552  72.746457   39.0  \n",
       "2  360.0   508000.000000   9480.0           834  80.019685   46.0  \n",
       "3  360.0   658000.000000  11880.0           587  69.376900   42.0  \n",
       "4  360.0   758000.000000  10440.0           602  91.886544   39.0  "
      ]
     },
     "execution_count": 33,
     "metadata": {},
     "output_type": "execute_result"
    }
   ],
   "source": [
    "num_columns = df.drop(categorical_columns, axis=1)\n",
    "num_columns.head()"
   ]
  },
  {
   "cell_type": "markdown",
   "id": "ec19aafe",
   "metadata": {},
   "source": [
    "#### Here, we use sklearn's MinMaxScaler() function to normalize the numeric data. The purpose of normalization is to scale all features to a similar range and prevent certain features from having a larger influence on the model due to their larger magnitude. The MinMaxScaler() function calculates the minimum and maximum values of a column and scales each value in the column between 0 and 1, preserving the proportion of the data. This ensures that each column has an equal impact on the model's prediction."
   ]
  },
  {
   "cell_type": "code",
   "execution_count": 34,
   "id": "080596d2",
   "metadata": {
    "id": "080596d2",
    "outputId": "91bf2e35-c82f-4067-aa99-e816baf2301e"
   },
   "outputs": [
    {
     "data": {
      "text/plain": [
       "array([[0.02808989, 0.49875   , 0.57589707, ..., 0.645     , 0.01248503,\n",
       "        0.71428571],\n",
       "       [0.05337079, 0.49875   , 0.57589707, ..., 0.13      , 0.00916684,\n",
       "        0.60714286],\n",
       "       [0.10955056, 0.57      , 0.54867763, ..., 0.835     , 0.0100957 ,\n",
       "        0.73214286],\n",
       "       ...,\n",
       "       [0.12078652, 0.390625  , 0.53175125, ..., 0.505     , 0.00770916,\n",
       "        0.78571429],\n",
       "       [0.0505618 , 0.4375    , 0.60334525, ..., 0.5925    , 0.00890338,\n",
       "        0.42857143],\n",
       "       [0.10955056, 0.546875  , 0.71838456, ..., 0.825     , 0.00918   ,\n",
       "        0.69642857]])"
      ]
     },
     "execution_count": 34,
     "metadata": {},
     "output_type": "execute_result"
    }
   ],
   "source": [
    "scaler = MinMaxScaler()\n",
    "num_scaled = scaler.fit_transform(num_columns)\n",
    "num_scaled"
   ]
  },
  {
   "cell_type": "markdown",
   "id": "a8312ff1",
   "metadata": {},
   "source": [
    "####  MinMaxScaler( ) output is an array, we will create a DataFrame with the normalized values"
   ]
  },
  {
   "cell_type": "code",
   "execution_count": 35,
   "id": "16f98fc7",
   "metadata": {
    "id": "16f98fc7",
    "outputId": "90e5fbc6-48ed-45ac-8a8d-3e1d8cbb4823"
   },
   "outputs": [
    {
     "data": {
      "text/html": [
       "<div>\n",
       "<style scoped>\n",
       "    .dataframe tbody tr th:only-of-type {\n",
       "        vertical-align: middle;\n",
       "    }\n",
       "\n",
       "    .dataframe tbody tr th {\n",
       "        vertical-align: top;\n",
       "    }\n",
       "\n",
       "    .dataframe thead th {\n",
       "        text-align: right;\n",
       "    }\n",
       "</style>\n",
       "<table border=\"1\" class=\"dataframe\">\n",
       "  <thead>\n",
       "    <tr style=\"text-align: right;\">\n",
       "      <th></th>\n",
       "      <th>loan_amount</th>\n",
       "      <th>rate_of_interest</th>\n",
       "      <th>Interest_rate_spread</th>\n",
       "      <th>Upfront_charges</th>\n",
       "      <th>term</th>\n",
       "      <th>property_value</th>\n",
       "      <th>income</th>\n",
       "      <th>Credit_Score</th>\n",
       "      <th>LTV</th>\n",
       "      <th>dtir1</th>\n",
       "    </tr>\n",
       "  </thead>\n",
       "  <tbody>\n",
       "    <tr>\n",
       "      <th>0</th>\n",
       "      <td>0.028090</td>\n",
       "      <td>0.498750</td>\n",
       "      <td>0.575897</td>\n",
       "      <td>0.053750</td>\n",
       "      <td>1.000000</td>\n",
       "      <td>0.006667</td>\n",
       "      <td>0.003007</td>\n",
       "      <td>0.6450</td>\n",
       "      <td>0.012485</td>\n",
       "      <td>0.714286</td>\n",
       "    </tr>\n",
       "    <tr>\n",
       "      <th>1</th>\n",
       "      <td>0.053371</td>\n",
       "      <td>0.498750</td>\n",
       "      <td>0.575897</td>\n",
       "      <td>0.053750</td>\n",
       "      <td>1.000000</td>\n",
       "      <td>0.029691</td>\n",
       "      <td>0.008607</td>\n",
       "      <td>0.1300</td>\n",
       "      <td>0.009167</td>\n",
       "      <td>0.607143</td>\n",
       "    </tr>\n",
       "    <tr>\n",
       "      <th>2</th>\n",
       "      <td>0.109551</td>\n",
       "      <td>0.570000</td>\n",
       "      <td>0.548678</td>\n",
       "      <td>0.009917</td>\n",
       "      <td>1.000000</td>\n",
       "      <td>0.030303</td>\n",
       "      <td>0.016385</td>\n",
       "      <td>0.8350</td>\n",
       "      <td>0.010096</td>\n",
       "      <td>0.732143</td>\n",
       "    </tr>\n",
       "    <tr>\n",
       "      <th>3</th>\n",
       "      <td>0.123596</td>\n",
       "      <td>0.531250</td>\n",
       "      <td>0.617441</td>\n",
       "      <td>0.053750</td>\n",
       "      <td>1.000000</td>\n",
       "      <td>0.039394</td>\n",
       "      <td>0.020533</td>\n",
       "      <td>0.2175</td>\n",
       "      <td>0.008737</td>\n",
       "      <td>0.660714</td>\n",
       "    </tr>\n",
       "    <tr>\n",
       "      <th>4</th>\n",
       "      <td>0.191011</td>\n",
       "      <td>0.500000</td>\n",
       "      <td>0.563574</td>\n",
       "      <td>0.000000</td>\n",
       "      <td>1.000000</td>\n",
       "      <td>0.045455</td>\n",
       "      <td>0.018044</td>\n",
       "      <td>0.2550</td>\n",
       "      <td>0.011611</td>\n",
       "      <td>0.607143</td>\n",
       "    </tr>\n",
       "    <tr>\n",
       "      <th>...</th>\n",
       "      <td>...</td>\n",
       "      <td>...</td>\n",
       "      <td>...</td>\n",
       "      <td>...</td>\n",
       "      <td>...</td>\n",
       "      <td>...</td>\n",
       "      <td>...</td>\n",
       "      <td>...</td>\n",
       "      <td>...</td>\n",
       "      <td>...</td>\n",
       "    </tr>\n",
       "    <tr>\n",
       "      <th>148665</th>\n",
       "      <td>0.117978</td>\n",
       "      <td>0.390625</td>\n",
       "      <td>0.556841</td>\n",
       "      <td>0.166000</td>\n",
       "      <td>0.318182</td>\n",
       "      <td>0.036364</td>\n",
       "      <td>0.013585</td>\n",
       "      <td>0.3975</td>\n",
       "      <td>0.009045</td>\n",
       "      <td>0.767857</td>\n",
       "    </tr>\n",
       "    <tr>\n",
       "      <th>148666</th>\n",
       "      <td>0.160112</td>\n",
       "      <td>0.648750</td>\n",
       "      <td>0.642230</td>\n",
       "      <td>0.000000</td>\n",
       "      <td>1.000000</td>\n",
       "      <td>0.047273</td>\n",
       "      <td>0.012341</td>\n",
       "      <td>0.1725</td>\n",
       "      <td>0.009382</td>\n",
       "      <td>0.178571</td>\n",
       "    </tr>\n",
       "    <tr>\n",
       "      <th>148667</th>\n",
       "      <td>0.120787</td>\n",
       "      <td>0.390625</td>\n",
       "      <td>0.531751</td>\n",
       "      <td>0.020444</td>\n",
       "      <td>0.318182</td>\n",
       "      <td>0.043636</td>\n",
       "      <td>0.011926</td>\n",
       "      <td>0.5050</td>\n",
       "      <td>0.007709</td>\n",
       "      <td>0.785714</td>\n",
       "    </tr>\n",
       "    <tr>\n",
       "      <th>148668</th>\n",
       "      <td>0.050562</td>\n",
       "      <td>0.437500</td>\n",
       "      <td>0.603345</td>\n",
       "      <td>0.072056</td>\n",
       "      <td>0.318182</td>\n",
       "      <td>0.016364</td>\n",
       "      <td>0.012341</td>\n",
       "      <td>0.5925</td>\n",
       "      <td>0.008903</td>\n",
       "      <td>0.428571</td>\n",
       "    </tr>\n",
       "    <tr>\n",
       "      <th>148669</th>\n",
       "      <td>0.109551</td>\n",
       "      <td>0.546875</td>\n",
       "      <td>0.718385</td>\n",
       "      <td>0.100000</td>\n",
       "      <td>0.545455</td>\n",
       "      <td>0.033333</td>\n",
       "      <td>0.012548</td>\n",
       "      <td>0.8250</td>\n",
       "      <td>0.009180</td>\n",
       "      <td>0.696429</td>\n",
       "    </tr>\n",
       "  </tbody>\n",
       "</table>\n",
       "<p>144104 rows × 10 columns</p>\n",
       "</div>"
      ],
      "text/plain": [
       "        loan_amount  rate_of_interest  Interest_rate_spread  Upfront_charges  \\\n",
       "0          0.028090          0.498750              0.575897         0.053750   \n",
       "1          0.053371          0.498750              0.575897         0.053750   \n",
       "2          0.109551          0.570000              0.548678         0.009917   \n",
       "3          0.123596          0.531250              0.617441         0.053750   \n",
       "4          0.191011          0.500000              0.563574         0.000000   \n",
       "...             ...               ...                   ...              ...   \n",
       "148665     0.117978          0.390625              0.556841         0.166000   \n",
       "148666     0.160112          0.648750              0.642230         0.000000   \n",
       "148667     0.120787          0.390625              0.531751         0.020444   \n",
       "148668     0.050562          0.437500              0.603345         0.072056   \n",
       "148669     0.109551          0.546875              0.718385         0.100000   \n",
       "\n",
       "            term  property_value    income  Credit_Score       LTV     dtir1  \n",
       "0       1.000000        0.006667  0.003007        0.6450  0.012485  0.714286  \n",
       "1       1.000000        0.029691  0.008607        0.1300  0.009167  0.607143  \n",
       "2       1.000000        0.030303  0.016385        0.8350  0.010096  0.732143  \n",
       "3       1.000000        0.039394  0.020533        0.2175  0.008737  0.660714  \n",
       "4       1.000000        0.045455  0.018044        0.2550  0.011611  0.607143  \n",
       "...          ...             ...       ...           ...       ...       ...  \n",
       "148665  0.318182        0.036364  0.013585        0.3975  0.009045  0.767857  \n",
       "148666  1.000000        0.047273  0.012341        0.1725  0.009382  0.178571  \n",
       "148667  0.318182        0.043636  0.011926        0.5050  0.007709  0.785714  \n",
       "148668  0.318182        0.016364  0.012341        0.5925  0.008903  0.428571  \n",
       "148669  0.545455        0.033333  0.012548        0.8250  0.009180  0.696429  \n",
       "\n",
       "[144104 rows x 10 columns]"
      ]
     },
     "execution_count": 35,
     "metadata": {},
     "output_type": "execute_result"
    }
   ],
   "source": [
    "num_scaled_df = pd.DataFrame(num_scaled, index=num_columns.index, columns=num_columns.columns)\n",
    "num_scaled_df"
   ]
  },
  {
   "cell_type": "markdown",
   "id": "2ebfae06",
   "metadata": {},
   "source": [
    "#### Next, we combine our normalized categorical and numeric columns into a single DataFrame, named x_data, which includes all of our standardized features. Additionally, we create a separate DataFrame, y_data, to hold our target variable, \"Status\". We print the shape of both DataFrames to ensure the number of data points is consistent.\n",
    "\n",
    "#### By combining the categorical and numeric columns into a single DataFrame, we are able to use both sets of features for our model. Using MinMaxScaler( ) ensures that the numeric data is scaled proportionately without losing any valuable information."
   ]
  },
  {
   "cell_type": "code",
   "execution_count": 36,
   "id": "7c3f4e37",
   "metadata": {
    "id": "7c3f4e37",
    "outputId": "aa224c98-0938-403a-e465-7949af413573"
   },
   "outputs": [
    {
     "name": "stdout",
     "output_type": "stream",
     "text": [
      "(144104, 65)\n",
      "(144104,)\n"
     ]
    }
   ],
   "source": [
    "x_data = num_scaled_df.join(cat_col_oneHot)\n",
    "y_data = df['Status']\n",
    "print(x_data.shape)\n",
    "print(y_data.shape)"
   ]
  },
  {
   "cell_type": "code",
   "execution_count": 37,
   "id": "cba567ec",
   "metadata": {
    "id": "cba567ec",
    "outputId": "26d2d5e9-e83e-4472-859d-c5c1168a9eba"
   },
   "outputs": [
    {
     "data": {
      "text/html": [
       "<div>\n",
       "<style scoped>\n",
       "    .dataframe tbody tr th:only-of-type {\n",
       "        vertical-align: middle;\n",
       "    }\n",
       "\n",
       "    .dataframe tbody tr th {\n",
       "        vertical-align: top;\n",
       "    }\n",
       "\n",
       "    .dataframe thead th {\n",
       "        text-align: right;\n",
       "    }\n",
       "</style>\n",
       "<table border=\"1\" class=\"dataframe\">\n",
       "  <thead>\n",
       "    <tr style=\"text-align: right;\">\n",
       "      <th></th>\n",
       "      <th>loan_amount</th>\n",
       "      <th>rate_of_interest</th>\n",
       "      <th>Interest_rate_spread</th>\n",
       "      <th>Upfront_charges</th>\n",
       "      <th>term</th>\n",
       "      <th>property_value</th>\n",
       "      <th>income</th>\n",
       "      <th>Credit_Score</th>\n",
       "      <th>LTV</th>\n",
       "      <th>dtir1</th>\n",
       "      <th>loan_limit_cf</th>\n",
       "      <th>loan_limit_ncf</th>\n",
       "      <th>Gender_Female</th>\n",
       "      <th>Gender_Joint</th>\n",
       "      <th>Gender_Male</th>\n",
       "      <th>Gender_Sex Not Available</th>\n",
       "      <th>approv_in_adv_nopre</th>\n",
       "      <th>approv_in_adv_pre</th>\n",
       "      <th>loan_type_type1</th>\n",
       "      <th>loan_type_type2</th>\n",
       "      <th>loan_type_type3</th>\n",
       "      <th>loan_purpose_p1</th>\n",
       "      <th>loan_purpose_p2</th>\n",
       "      <th>loan_purpose_p3</th>\n",
       "      <th>loan_purpose_p4</th>\n",
       "      <th>Credit_Worthiness_l1</th>\n",
       "      <th>Credit_Worthiness_l2</th>\n",
       "      <th>open_credit_nopc</th>\n",
       "      <th>open_credit_opc</th>\n",
       "      <th>business_or_commercial_b/c</th>\n",
       "      <th>business_or_commercial_nob/c</th>\n",
       "      <th>Neg_ammortization_neg_amm</th>\n",
       "      <th>Neg_ammortization_not_neg</th>\n",
       "      <th>interest_only_int_only</th>\n",
       "      <th>interest_only_not_int</th>\n",
       "      <th>lump_sum_payment_lpsm</th>\n",
       "      <th>lump_sum_payment_not_lpsm</th>\n",
       "      <th>construction_type_mh</th>\n",
       "      <th>construction_type_sb</th>\n",
       "      <th>occupancy_type_ir</th>\n",
       "      <th>occupancy_type_pr</th>\n",
       "      <th>occupancy_type_sr</th>\n",
       "      <th>total_units_1U</th>\n",
       "      <th>total_units_2U</th>\n",
       "      <th>total_units_3U</th>\n",
       "      <th>total_units_4U</th>\n",
       "      <th>credit_type_CIB</th>\n",
       "      <th>credit_type_CRIF</th>\n",
       "      <th>credit_type_EQUI</th>\n",
       "      <th>credit_type_EXP</th>\n",
       "      <th>co-applicant_credit_type_CIB</th>\n",
       "      <th>co-applicant_credit_type_EXP</th>\n",
       "      <th>age_25-34</th>\n",
       "      <th>age_35-44</th>\n",
       "      <th>age_45-54</th>\n",
       "      <th>age_55-64</th>\n",
       "      <th>age_65-74</th>\n",
       "      <th>age_&lt;25</th>\n",
       "      <th>age_&gt;74</th>\n",
       "      <th>submission_of_application_not_inst</th>\n",
       "      <th>submission_of_application_to_inst</th>\n",
       "      <th>Region_North</th>\n",
       "      <th>Region_North-East</th>\n",
       "      <th>Region_central</th>\n",
       "      <th>Region_south</th>\n",
       "    </tr>\n",
       "  </thead>\n",
       "  <tbody>\n",
       "    <tr>\n",
       "      <th>0</th>\n",
       "      <td>0.028090</td>\n",
       "      <td>0.49875</td>\n",
       "      <td>0.575897</td>\n",
       "      <td>0.053750</td>\n",
       "      <td>1.0</td>\n",
       "      <td>0.006667</td>\n",
       "      <td>0.003007</td>\n",
       "      <td>0.6450</td>\n",
       "      <td>0.012485</td>\n",
       "      <td>0.714286</td>\n",
       "      <td>1</td>\n",
       "      <td>0</td>\n",
       "      <td>0</td>\n",
       "      <td>0</td>\n",
       "      <td>0</td>\n",
       "      <td>1</td>\n",
       "      <td>1</td>\n",
       "      <td>0</td>\n",
       "      <td>1</td>\n",
       "      <td>0</td>\n",
       "      <td>0</td>\n",
       "      <td>1</td>\n",
       "      <td>0</td>\n",
       "      <td>0</td>\n",
       "      <td>0</td>\n",
       "      <td>1</td>\n",
       "      <td>0</td>\n",
       "      <td>1</td>\n",
       "      <td>0</td>\n",
       "      <td>0</td>\n",
       "      <td>1</td>\n",
       "      <td>0</td>\n",
       "      <td>1</td>\n",
       "      <td>0</td>\n",
       "      <td>1</td>\n",
       "      <td>0</td>\n",
       "      <td>1</td>\n",
       "      <td>0</td>\n",
       "      <td>1</td>\n",
       "      <td>0</td>\n",
       "      <td>1</td>\n",
       "      <td>0</td>\n",
       "      <td>1</td>\n",
       "      <td>0</td>\n",
       "      <td>0</td>\n",
       "      <td>0</td>\n",
       "      <td>0</td>\n",
       "      <td>0</td>\n",
       "      <td>0</td>\n",
       "      <td>1</td>\n",
       "      <td>1</td>\n",
       "      <td>0</td>\n",
       "      <td>1</td>\n",
       "      <td>0</td>\n",
       "      <td>0</td>\n",
       "      <td>0</td>\n",
       "      <td>0</td>\n",
       "      <td>0</td>\n",
       "      <td>0</td>\n",
       "      <td>0</td>\n",
       "      <td>1</td>\n",
       "      <td>0</td>\n",
       "      <td>0</td>\n",
       "      <td>0</td>\n",
       "      <td>1</td>\n",
       "    </tr>\n",
       "    <tr>\n",
       "      <th>1</th>\n",
       "      <td>0.053371</td>\n",
       "      <td>0.49875</td>\n",
       "      <td>0.575897</td>\n",
       "      <td>0.053750</td>\n",
       "      <td>1.0</td>\n",
       "      <td>0.029691</td>\n",
       "      <td>0.008607</td>\n",
       "      <td>0.1300</td>\n",
       "      <td>0.009167</td>\n",
       "      <td>0.607143</td>\n",
       "      <td>1</td>\n",
       "      <td>0</td>\n",
       "      <td>0</td>\n",
       "      <td>0</td>\n",
       "      <td>1</td>\n",
       "      <td>0</td>\n",
       "      <td>1</td>\n",
       "      <td>0</td>\n",
       "      <td>0</td>\n",
       "      <td>1</td>\n",
       "      <td>0</td>\n",
       "      <td>1</td>\n",
       "      <td>0</td>\n",
       "      <td>0</td>\n",
       "      <td>0</td>\n",
       "      <td>1</td>\n",
       "      <td>0</td>\n",
       "      <td>1</td>\n",
       "      <td>0</td>\n",
       "      <td>1</td>\n",
       "      <td>0</td>\n",
       "      <td>0</td>\n",
       "      <td>1</td>\n",
       "      <td>0</td>\n",
       "      <td>1</td>\n",
       "      <td>1</td>\n",
       "      <td>0</td>\n",
       "      <td>0</td>\n",
       "      <td>1</td>\n",
       "      <td>0</td>\n",
       "      <td>1</td>\n",
       "      <td>0</td>\n",
       "      <td>1</td>\n",
       "      <td>0</td>\n",
       "      <td>0</td>\n",
       "      <td>0</td>\n",
       "      <td>0</td>\n",
       "      <td>0</td>\n",
       "      <td>1</td>\n",
       "      <td>0</td>\n",
       "      <td>0</td>\n",
       "      <td>1</td>\n",
       "      <td>0</td>\n",
       "      <td>0</td>\n",
       "      <td>0</td>\n",
       "      <td>1</td>\n",
       "      <td>0</td>\n",
       "      <td>0</td>\n",
       "      <td>0</td>\n",
       "      <td>0</td>\n",
       "      <td>1</td>\n",
       "      <td>1</td>\n",
       "      <td>0</td>\n",
       "      <td>0</td>\n",
       "      <td>0</td>\n",
       "    </tr>\n",
       "    <tr>\n",
       "      <th>2</th>\n",
       "      <td>0.109551</td>\n",
       "      <td>0.57000</td>\n",
       "      <td>0.548678</td>\n",
       "      <td>0.009917</td>\n",
       "      <td>1.0</td>\n",
       "      <td>0.030303</td>\n",
       "      <td>0.016385</td>\n",
       "      <td>0.8350</td>\n",
       "      <td>0.010096</td>\n",
       "      <td>0.732143</td>\n",
       "      <td>1</td>\n",
       "      <td>0</td>\n",
       "      <td>0</td>\n",
       "      <td>0</td>\n",
       "      <td>1</td>\n",
       "      <td>0</td>\n",
       "      <td>0</td>\n",
       "      <td>1</td>\n",
       "      <td>1</td>\n",
       "      <td>0</td>\n",
       "      <td>0</td>\n",
       "      <td>1</td>\n",
       "      <td>0</td>\n",
       "      <td>0</td>\n",
       "      <td>0</td>\n",
       "      <td>1</td>\n",
       "      <td>0</td>\n",
       "      <td>1</td>\n",
       "      <td>0</td>\n",
       "      <td>0</td>\n",
       "      <td>1</td>\n",
       "      <td>1</td>\n",
       "      <td>0</td>\n",
       "      <td>0</td>\n",
       "      <td>1</td>\n",
       "      <td>0</td>\n",
       "      <td>1</td>\n",
       "      <td>0</td>\n",
       "      <td>1</td>\n",
       "      <td>0</td>\n",
       "      <td>1</td>\n",
       "      <td>0</td>\n",
       "      <td>1</td>\n",
       "      <td>0</td>\n",
       "      <td>0</td>\n",
       "      <td>0</td>\n",
       "      <td>0</td>\n",
       "      <td>0</td>\n",
       "      <td>0</td>\n",
       "      <td>1</td>\n",
       "      <td>1</td>\n",
       "      <td>0</td>\n",
       "      <td>0</td>\n",
       "      <td>1</td>\n",
       "      <td>0</td>\n",
       "      <td>0</td>\n",
       "      <td>0</td>\n",
       "      <td>0</td>\n",
       "      <td>0</td>\n",
       "      <td>0</td>\n",
       "      <td>1</td>\n",
       "      <td>0</td>\n",
       "      <td>0</td>\n",
       "      <td>0</td>\n",
       "      <td>1</td>\n",
       "    </tr>\n",
       "    <tr>\n",
       "      <th>3</th>\n",
       "      <td>0.123596</td>\n",
       "      <td>0.53125</td>\n",
       "      <td>0.617441</td>\n",
       "      <td>0.053750</td>\n",
       "      <td>1.0</td>\n",
       "      <td>0.039394</td>\n",
       "      <td>0.020533</td>\n",
       "      <td>0.2175</td>\n",
       "      <td>0.008737</td>\n",
       "      <td>0.660714</td>\n",
       "      <td>1</td>\n",
       "      <td>0</td>\n",
       "      <td>0</td>\n",
       "      <td>0</td>\n",
       "      <td>1</td>\n",
       "      <td>0</td>\n",
       "      <td>1</td>\n",
       "      <td>0</td>\n",
       "      <td>1</td>\n",
       "      <td>0</td>\n",
       "      <td>0</td>\n",
       "      <td>0</td>\n",
       "      <td>0</td>\n",
       "      <td>0</td>\n",
       "      <td>1</td>\n",
       "      <td>1</td>\n",
       "      <td>0</td>\n",
       "      <td>1</td>\n",
       "      <td>0</td>\n",
       "      <td>0</td>\n",
       "      <td>1</td>\n",
       "      <td>0</td>\n",
       "      <td>1</td>\n",
       "      <td>0</td>\n",
       "      <td>1</td>\n",
       "      <td>0</td>\n",
       "      <td>1</td>\n",
       "      <td>0</td>\n",
       "      <td>1</td>\n",
       "      <td>0</td>\n",
       "      <td>1</td>\n",
       "      <td>0</td>\n",
       "      <td>1</td>\n",
       "      <td>0</td>\n",
       "      <td>0</td>\n",
       "      <td>0</td>\n",
       "      <td>0</td>\n",
       "      <td>0</td>\n",
       "      <td>0</td>\n",
       "      <td>1</td>\n",
       "      <td>1</td>\n",
       "      <td>0</td>\n",
       "      <td>0</td>\n",
       "      <td>0</td>\n",
       "      <td>1</td>\n",
       "      <td>0</td>\n",
       "      <td>0</td>\n",
       "      <td>0</td>\n",
       "      <td>0</td>\n",
       "      <td>1</td>\n",
       "      <td>0</td>\n",
       "      <td>1</td>\n",
       "      <td>0</td>\n",
       "      <td>0</td>\n",
       "      <td>0</td>\n",
       "    </tr>\n",
       "    <tr>\n",
       "      <th>4</th>\n",
       "      <td>0.191011</td>\n",
       "      <td>0.50000</td>\n",
       "      <td>0.563574</td>\n",
       "      <td>0.000000</td>\n",
       "      <td>1.0</td>\n",
       "      <td>0.045455</td>\n",
       "      <td>0.018044</td>\n",
       "      <td>0.2550</td>\n",
       "      <td>0.011611</td>\n",
       "      <td>0.607143</td>\n",
       "      <td>1</td>\n",
       "      <td>0</td>\n",
       "      <td>0</td>\n",
       "      <td>1</td>\n",
       "      <td>0</td>\n",
       "      <td>0</td>\n",
       "      <td>0</td>\n",
       "      <td>1</td>\n",
       "      <td>1</td>\n",
       "      <td>0</td>\n",
       "      <td>0</td>\n",
       "      <td>1</td>\n",
       "      <td>0</td>\n",
       "      <td>0</td>\n",
       "      <td>0</td>\n",
       "      <td>1</td>\n",
       "      <td>0</td>\n",
       "      <td>1</td>\n",
       "      <td>0</td>\n",
       "      <td>0</td>\n",
       "      <td>1</td>\n",
       "      <td>0</td>\n",
       "      <td>1</td>\n",
       "      <td>0</td>\n",
       "      <td>1</td>\n",
       "      <td>0</td>\n",
       "      <td>1</td>\n",
       "      <td>0</td>\n",
       "      <td>1</td>\n",
       "      <td>0</td>\n",
       "      <td>1</td>\n",
       "      <td>0</td>\n",
       "      <td>1</td>\n",
       "      <td>0</td>\n",
       "      <td>0</td>\n",
       "      <td>0</td>\n",
       "      <td>0</td>\n",
       "      <td>1</td>\n",
       "      <td>0</td>\n",
       "      <td>0</td>\n",
       "      <td>0</td>\n",
       "      <td>1</td>\n",
       "      <td>1</td>\n",
       "      <td>0</td>\n",
       "      <td>0</td>\n",
       "      <td>0</td>\n",
       "      <td>0</td>\n",
       "      <td>0</td>\n",
       "      <td>0</td>\n",
       "      <td>1</td>\n",
       "      <td>0</td>\n",
       "      <td>1</td>\n",
       "      <td>0</td>\n",
       "      <td>0</td>\n",
       "      <td>0</td>\n",
       "    </tr>\n",
       "  </tbody>\n",
       "</table>\n",
       "</div>"
      ],
      "text/plain": [
       "   loan_amount  rate_of_interest  Interest_rate_spread  Upfront_charges  term  \\\n",
       "0     0.028090           0.49875              0.575897         0.053750   1.0   \n",
       "1     0.053371           0.49875              0.575897         0.053750   1.0   \n",
       "2     0.109551           0.57000              0.548678         0.009917   1.0   \n",
       "3     0.123596           0.53125              0.617441         0.053750   1.0   \n",
       "4     0.191011           0.50000              0.563574         0.000000   1.0   \n",
       "\n",
       "   property_value    income  Credit_Score       LTV     dtir1  loan_limit_cf  \\\n",
       "0        0.006667  0.003007        0.6450  0.012485  0.714286              1   \n",
       "1        0.029691  0.008607        0.1300  0.009167  0.607143              1   \n",
       "2        0.030303  0.016385        0.8350  0.010096  0.732143              1   \n",
       "3        0.039394  0.020533        0.2175  0.008737  0.660714              1   \n",
       "4        0.045455  0.018044        0.2550  0.011611  0.607143              1   \n",
       "\n",
       "   loan_limit_ncf  Gender_Female  Gender_Joint  Gender_Male  \\\n",
       "0               0              0             0            0   \n",
       "1               0              0             0            1   \n",
       "2               0              0             0            1   \n",
       "3               0              0             0            1   \n",
       "4               0              0             1            0   \n",
       "\n",
       "   Gender_Sex Not Available  approv_in_adv_nopre  approv_in_adv_pre  \\\n",
       "0                         1                    1                  0   \n",
       "1                         0                    1                  0   \n",
       "2                         0                    0                  1   \n",
       "3                         0                    1                  0   \n",
       "4                         0                    0                  1   \n",
       "\n",
       "   loan_type_type1  loan_type_type2  loan_type_type3  loan_purpose_p1  \\\n",
       "0                1                0                0                1   \n",
       "1                0                1                0                1   \n",
       "2                1                0                0                1   \n",
       "3                1                0                0                0   \n",
       "4                1                0                0                1   \n",
       "\n",
       "   loan_purpose_p2  loan_purpose_p3  loan_purpose_p4  Credit_Worthiness_l1  \\\n",
       "0                0                0                0                     1   \n",
       "1                0                0                0                     1   \n",
       "2                0                0                0                     1   \n",
       "3                0                0                1                     1   \n",
       "4                0                0                0                     1   \n",
       "\n",
       "   Credit_Worthiness_l2  open_credit_nopc  open_credit_opc  \\\n",
       "0                     0                 1                0   \n",
       "1                     0                 1                0   \n",
       "2                     0                 1                0   \n",
       "3                     0                 1                0   \n",
       "4                     0                 1                0   \n",
       "\n",
       "   business_or_commercial_b/c  business_or_commercial_nob/c  \\\n",
       "0                           0                             1   \n",
       "1                           1                             0   \n",
       "2                           0                             1   \n",
       "3                           0                             1   \n",
       "4                           0                             1   \n",
       "\n",
       "   Neg_ammortization_neg_amm  Neg_ammortization_not_neg  \\\n",
       "0                          0                          1   \n",
       "1                          0                          1   \n",
       "2                          1                          0   \n",
       "3                          0                          1   \n",
       "4                          0                          1   \n",
       "\n",
       "   interest_only_int_only  interest_only_not_int  lump_sum_payment_lpsm  \\\n",
       "0                       0                      1                      0   \n",
       "1                       0                      1                      1   \n",
       "2                       0                      1                      0   \n",
       "3                       0                      1                      0   \n",
       "4                       0                      1                      0   \n",
       "\n",
       "   lump_sum_payment_not_lpsm  construction_type_mh  construction_type_sb  \\\n",
       "0                          1                     0                     1   \n",
       "1                          0                     0                     1   \n",
       "2                          1                     0                     1   \n",
       "3                          1                     0                     1   \n",
       "4                          1                     0                     1   \n",
       "\n",
       "   occupancy_type_ir  occupancy_type_pr  occupancy_type_sr  total_units_1U  \\\n",
       "0                  0                  1                  0               1   \n",
       "1                  0                  1                  0               1   \n",
       "2                  0                  1                  0               1   \n",
       "3                  0                  1                  0               1   \n",
       "4                  0                  1                  0               1   \n",
       "\n",
       "   total_units_2U  total_units_3U  total_units_4U  credit_type_CIB  \\\n",
       "0               0               0               0                0   \n",
       "1               0               0               0                0   \n",
       "2               0               0               0                0   \n",
       "3               0               0               0                0   \n",
       "4               0               0               0                0   \n",
       "\n",
       "   credit_type_CRIF  credit_type_EQUI  credit_type_EXP  \\\n",
       "0                 0                 0                1   \n",
       "1                 0                 1                0   \n",
       "2                 0                 0                1   \n",
       "3                 0                 0                1   \n",
       "4                 1                 0                0   \n",
       "\n",
       "   co-applicant_credit_type_CIB  co-applicant_credit_type_EXP  age_25-34  \\\n",
       "0                             1                             0          1   \n",
       "1                             0                             1          0   \n",
       "2                             1                             0          0   \n",
       "3                             1                             0          0   \n",
       "4                             0                             1          1   \n",
       "\n",
       "   age_35-44  age_45-54  age_55-64  age_65-74  age_<25  age_>74  \\\n",
       "0          0          0          0          0        0        0   \n",
       "1          0          0          1          0        0        0   \n",
       "2          1          0          0          0        0        0   \n",
       "3          0          1          0          0        0        0   \n",
       "4          0          0          0          0        0        0   \n",
       "\n",
       "   submission_of_application_not_inst  submission_of_application_to_inst  \\\n",
       "0                                   0                                  1   \n",
       "1                                   0                                  1   \n",
       "2                                   0                                  1   \n",
       "3                                   1                                  0   \n",
       "4                                   1                                  0   \n",
       "\n",
       "   Region_North  Region_North-East  Region_central  Region_south  \n",
       "0             0                  0               0             1  \n",
       "1             1                  0               0             0  \n",
       "2             0                  0               0             1  \n",
       "3             1                  0               0             0  \n",
       "4             1                  0               0             0  "
      ]
     },
     "execution_count": 37,
     "metadata": {},
     "output_type": "execute_result"
    }
   ],
   "source": [
    "x_data.head()"
   ]
  },
  {
   "cell_type": "markdown",
   "id": "dcc8967a",
   "metadata": {},
   "source": [
    "#### Now, using sklearn's train_test_split, we split our data into training and testing sets which is  60% of our data to train our models, and 40% of our data to test them."
   ]
  },
  {
   "cell_type": "code",
   "execution_count": 38,
   "id": "98eba498",
   "metadata": {
    "id": "98eba498",
    "outputId": "76b4a44c-ef74-46a8-f420-56a6fee27315"
   },
   "outputs": [
    {
     "name": "stdout",
     "output_type": "stream",
     "text": [
      "(86462, 65)\n",
      "(86462,)\n",
      "(57642, 65)\n",
      "(57642,)\n"
     ]
    }
   ],
   "source": [
    "x_train, x_test, y_train, y_test = train_test_split(x_data, y_data, test_size=0.40, random_state=47)\n",
    "print(x_train.shape)\n",
    "print(y_train.shape)\n",
    "print(x_test.shape)\n",
    "print(y_test.shape)"
   ]
  },
  {
   "cell_type": "markdown",
   "id": "303d1e74",
   "metadata": {},
   "source": [
    "## Part 4: Modelling and Prediction"
   ]
  },
  {
   "cell_type": "markdown",
   "id": "a9a64510",
   "metadata": {},
   "source": [
    "#### To visualise each model's confusion matrix, we create function that takes in the confusion matrix as a function argument, and creates and returns a seaborn heatmap of the results"
   ]
  },
  {
   "cell_type": "code",
   "execution_count": 39,
   "id": "12946bd8",
   "metadata": {},
   "outputs": [],
   "source": [
    "def create_heatmap(cf_matrix):\n",
    "    group_names = [\"True Neg\",\"False Pos\",\"False Neg\",\"True Pos\"]\n",
    "    group_counts = [\"{0:0.0f}\".format(value) for value in\n",
    "                cf_matrix.flatten()]\n",
    "    group_percentages = [\"{0:.2%}\".format(value) for value in\n",
    "                     cf_matrix.flatten()/np.sum(cf_matrix)]\n",
    "    labels = [f\"{v1}\\n{v2}\\n{v3}\" for v1, v2, v3 in\n",
    "          zip(group_names,group_counts,group_percentages)]\n",
    "    labels = np.asarray(labels).reshape(2,2)\n",
    "    return sns.heatmap(cf_matrix, annot=labels, fmt=\"\", cmap='Blues')"
   ]
  },
  {
   "cell_type": "markdown",
   "id": "83dc421a",
   "metadata": {},
   "source": [
    "### Model 1: Random Forest Classifier"
   ]
  },
  {
   "cell_type": "markdown",
   "id": "170f3b2a",
   "metadata": {},
   "source": [
    "#### We will use RandomForestClassifier and We fit it with our training sets, and then predict the values using our test set. And also evaluating our model performance using the accuracy_score,  f1_score, classification_report and confusion_matrix functions from sklearn."
   ]
  },
  {
   "cell_type": "code",
   "execution_count": 40,
   "id": "21be02fc",
   "metadata": {
    "id": "21be02fc",
    "outputId": "79dd8105-acdc-43a6-b0f9-d2c7e23f116f"
   },
   "outputs": [
    {
     "name": "stdout",
     "output_type": "stream",
     "text": [
      "Test Accuracy:  1.0\n",
      "Weighted F1 score:  1.0\n",
      "              precision    recall  f1-score   support\n",
      "\n",
      "           0       1.00      1.00      1.00     43536\n",
      "           1       1.00      1.00      1.00     14106\n",
      "\n",
      "    accuracy                           1.00     57642\n",
      "   macro avg       1.00      1.00      1.00     57642\n",
      "weighted avg       1.00      1.00      1.00     57642\n",
      "\n",
      "AxesSubplot(0.125,0.11;0.62x0.77)\n"
     ]
    },
    {
     "data": {
      "image/png": "[encoded data removed]",
      "text/plain": [
       "<Figure size 640x480 with 2 Axes>"
      ]
     },
     "metadata": {},
     "output_type": "display_data"
    }
   ],
   "source": [
    "from sklearn.ensemble import RandomForestClassifier\n",
    "\n",
    "clf = RandomForestClassifier()\n",
    "clf.fit(x_train, y_train)\n",
    "y_pred_RF = clf.predict(x_test)\n",
    "print('Test Accuracy: ', accuracy_score(y_test, y_pred_RF))\n",
    "print(\"Weighted F1 score: \", f1_score(y_test, y_pred_RF, average='weighted'))\n",
    "class_report_RF = classification_report(y_test, y_pred_RF)\n",
    "print(class_report_RF)\n",
    "cf_matrix_RF = confusion_matrix(y_test, y_pred_RF)\n",
    "print(create_heatmap(cf_matrix_RF))"
   ]
  },
  {
   "cell_type": "markdown",
   "id": "d25769bc",
   "metadata": {},
   "source": [
    "### Model 2: Decision Tree"
   ]
  },
  {
   "cell_type": "markdown",
   "id": "309682e8",
   "metadata": {},
   "source": [
    "#### Now using the DecisionTreeClassifier. We fit it with our training sets , and then predict the values using our test set and evaluating our model performance using the accuracy_score, f1_score, classification_report and confusion_matrix functions from sklearn."
   ]
  },
  {
   "cell_type": "code",
   "execution_count": 41,
   "id": "9d4576d5",
   "metadata": {
    "id": "9d4576d5",
    "outputId": "d9e5cc03-8626-4834-b33a-31928165d5a9"
   },
   "outputs": [
    {
     "name": "stdout",
     "output_type": "stream",
     "text": [
      "Test Accuracy:  0.9999826515388085\n",
      "Weighted F1 score:  0.9999826517466411\n",
      "              precision    recall  f1-score   support\n",
      "\n",
      "           0       1.00      1.00      1.00     43536\n",
      "           1       1.00      1.00      1.00     14106\n",
      "\n",
      "    accuracy                           1.00     57642\n",
      "   macro avg       1.00      1.00      1.00     57642\n",
      "weighted avg       1.00      1.00      1.00     57642\n",
      "\n",
      "AxesSubplot(0.125,0.11;0.62x0.77)\n"
     ]
    },
    {
     "data": {
      "image/png": "[encoded data removed]",
      "text/plain": [
       "<Figure size 640x480 with 2 Axes>"
      ]
     },
     "metadata": {},
     "output_type": "display_data"
    }
   ],
   "source": [
    "from sklearn.tree import DecisionTreeClassifier\n",
    "\n",
    "clf = DecisionTreeClassifier()\n",
    "clf.fit(x_train, y_train)\n",
    "y_pred_DT = clf.predict(x_test)\n",
    "print('Test Accuracy: ', accuracy_score(y_test, y_pred_DT))\n",
    "print(\"Weighted F1 score: \", f1_score(y_test, y_pred_DT, average='weighted'))\n",
    "print(classification_report(y_test, y_pred_DT))\n",
    "cf_matrix_DT = confusion_matrix(y_test, y_pred_DT)\n",
    "print(create_heatmap(cf_matrix_DT))"
   ]
  },
  {
   "cell_type": "markdown",
   "id": "4c2b3e13",
   "metadata": {},
   "source": [
    "### Model 3: K-Nearest Neighbours"
   ]
  },
  {
   "cell_type": "markdown",
   "id": "02f3228c",
   "metadata": {},
   "source": [
    "#### We use the KNeighborsClassifier from sklearn.ensemble as our model here. We fit it with our training sets, and then predict the values using our test set. We then evaluate our model performance using the accuracy_score, f1_score, classification_report, and confusion_matrix functions from sklearn."
   ]
  },
  {
   "cell_type": "code",
   "execution_count": 42,
   "id": "ff2c8f10",
   "metadata": {
    "id": "ff2c8f10",
    "outputId": "dcbe089b-1bf7-4206-dc7d-d626162ce235"
   },
   "outputs": [
    {
     "name": "stdout",
     "output_type": "stream",
     "text": [
      "Test Accuracy:  0.8523472467992089\n",
      "Weighted F1 score:  0.8391856698408355\n",
      "              precision    recall  f1-score   support\n",
      "\n",
      "           0       0.86      0.96      0.91     43536\n",
      "           1       0.82      0.51      0.63     14106\n",
      "\n",
      "    accuracy                           0.85     57642\n",
      "   macro avg       0.84      0.74      0.77     57642\n",
      "weighted avg       0.85      0.85      0.84     57642\n",
      "\n",
      "AxesSubplot(0.125,0.11;0.62x0.77)\n"
     ]
    },
    {
     "data": {
      "image/png": "[encoded data removed]",
      "text/plain": [
       "<Figure size 640x480 with 2 Axes>"
      ]
     },
     "metadata": {},
     "output_type": "display_data"
    }
   ],
   "source": [
    "from sklearn.neighbors import KNeighborsClassifier\n",
    "\n",
    "clf = KNeighborsClassifier()\n",
    "clf.fit(x_train, y_train)\n",
    "y_pred_KNN = clf.predict(x_test)\n",
    "print('Test Accuracy: ', accuracy_score(y_test, y_pred_KNN))\n",
    "print(\"Weighted F1 score: \", f1_score(y_test, y_pred_KNN, average='weighted'))\n",
    "print(classification_report(y_test, y_pred_KNN))\n",
    "cf_matrix_KNN = confusion_matrix(y_test, y_pred_KNN)\n",
    "print(create_heatmap(cf_matrix_KNN))"
   ]
  },
  {
   "cell_type": "markdown",
   "id": "b8d49818",
   "metadata": {},
   "source": [
    "### Model 4: Gaussian Naïve Bayes"
   ]
  },
  {
   "cell_type": "markdown",
   "id": "bfc7b5b9",
   "metadata": {},
   "source": [
    "#### Now Using Gaussian Naive Bayes from the scikit-learn library to build a classification model. First, we fit the model to our training data  using the fit function. Next, we use the predict function to make predictions on the test data . And evaluating the performance of our model using various metrics provided by scikit-learn, including accuracy_score, f1_score, classification_report, and confusion_matrix."
   ]
  },
  {
   "cell_type": "code",
   "execution_count": 43,
   "id": "e63304d8",
   "metadata": {},
   "outputs": [
    {
     "name": "stdout",
     "output_type": "stream",
     "text": [
      "Test Accuracy:  0.8969501405225356\n",
      "Weighted F1 score:  0.886503654215161\n",
      "              precision    recall  f1-score   support\n",
      "\n",
      "           0       0.88      1.00      0.94     43536\n",
      "           1       1.00      0.58      0.73     14106\n",
      "\n",
      "    accuracy                           0.90     57642\n",
      "   macro avg       0.94      0.79      0.83     57642\n",
      "weighted avg       0.91      0.90      0.89     57642\n",
      "\n",
      "AxesSubplot(0.125,0.11;0.62x0.77)\n"
     ]
    },
    {
     "data": {
      "image/png": "[encoded data removed]",
      "text/plain": [
       "<Figure size 640x480 with 2 Axes>"
      ]
     },
     "metadata": {},
     "output_type": "display_data"
    }
   ],
   "source": [
    "from sklearn.naive_bayes import GaussianNB\n",
    "gnb = GaussianNB()\n",
    "y_pred = gnb.fit(x_train, y_train).predict(x_test)\n",
    "print('Test Accuracy: ', accuracy_score(y_test, y_pred))\n",
    "print(\"Weighted F1 score: \", f1_score(y_test, y_pred, average='weighted'))\n",
    "print(classification_report(y_test, y_pred))\n",
    "cf_matrix = confusion_matrix(y_test, y_pred)\n",
    "print(create_heatmap(cf_matrix))"
   ]
  },
  {
   "cell_type": "markdown",
   "id": "37dfef4e",
   "metadata": {},
   "source": [
    "### Model 5: Support Vector Machine"
   ]
  },
  {
   "cell_type": "markdown",
   "id": "e4243d17",
   "metadata": {},
   "source": [
    "#### Using the SVM (Support Vector Machine) model from scikit-learn library, we train our model on the training data using svm.SVC() function. After fitting the model, we make predictions on the test data using the predict function. Finally, we evaluate the performance of our model using various metrics provided by scikit-learn such as accuracy_score, f1_score, classification_report, and confusion_matrix."
   ]
  },
  {
   "cell_type": "code",
   "execution_count": null,
   "id": "08b58810",
   "metadata": {
    "id": "08b58810",
    "outputId": "c3dfaf87-e1c5-4432-9f31-e5796bcaeffb"
   },
   "outputs": [],
   "source": [
    "from sklearn import svm\n",
    "\n",
    "clf = svm.SVC()\n",
    "clf.fit(x_train, y_train)\n",
    "y_pred_SVM = clf.predict(x_test)\n",
    "print('Test Accuracy: ', accuracy_score(y_test, y_pred_SVM))\n",
    "print(\"Weighted F1 score: \", f1_score(y_test, y_pred_SVM, average='weighted'))\n",
    "print(classification_report(y_test, y_pred_SVM))\n",
    "cf_matrix_SVM = confusion_matrix(y_test, y_pred_SVM)\n",
    "print(create_heatmap(cf_matrix_SVM))"
   ]
  },
  {
   "cell_type": "markdown",
   "id": "7d244476",
   "metadata": {},
   "source": [
    "### Model 6: Artificial Neural Network (A Multi-Layer Perceptron)"
   ]
  },
  {
   "cell_type": "markdown",
   "id": "bc3dd388",
   "metadata": {},
   "source": [
    "#### We use the MLPClassifier from sklearn.neural_network as our model here. We fit it with our training sets (x_train and y_train). We then evaluate our model performance using mlp.score( ) by passing it our x_train and y_train sets for a training accuracy, and our x_test and y_test sets for a testing accuracy."
   ]
  },
  {
   "cell_type": "code",
   "execution_count": 36,
   "id": "a5496f00",
   "metadata": {
    "id": "a5496f00",
    "outputId": "e6bdabeb-3303-41fb-8cb3-cbb235cae682"
   },
   "outputs": [
    {
     "name": "stdout",
     "output_type": "stream",
     "text": [
      "MLPClassifier(alpha=1e-05, early_stopping=True, hidden_layer_sizes=(30, 30),\n",
      "              learning_rate='adaptive', max_iter=1000, n_iter_no_change=50,\n",
      "              tol=1e-06, validation_fraction=0.2)\n",
      "iterations ran: 374\n",
      "Train score: 0.9965418334065832\n",
      "Test score: 0.9950903854828077\n"
     ]
    }
   ],
   "source": [
    "from sklearn.neural_network import MLPClassifier\n",
    "mlp = MLPClassifier(\n",
    "    hidden_layer_sizes = (30, 30),\n",
    "    activation = 'relu',\n",
    "    alpha = 1e-5,\n",
    "    learning_rate = 'adaptive',\n",
    "    learning_rate_init = 1e-3,\n",
    "    tol = 1e-6,\n",
    "    early_stopping = True,\n",
    "    validation_fraction = 2e-1,\n",
    "    n_iter_no_change = 50,\n",
    "    max_iter = 1000,\n",
    "    solver = 'adam', # 'lbfgs', 'sgd'\n",
    ")\n",
    "\n",
    "print(mlp.fit(x_train.to_numpy(), y_train))\n",
    "\n",
    "print(f\"iterations ran: {mlp.n_iter_}\")\n",
    "print(f\"Train score: {mlp.score(x_train.to_numpy(), y_train)}\")\n",
    "print(f\"Test score: {mlp.score(x_test.to_numpy(), y_test)}\")"
   ]
  }
 ],
 "metadata": {
  "colab": {
   "collapsed_sections": [],
   "name": "LoanDefaultPrediction_all_models.ipynb",
   "provenance": []
  },
  "kernelspec": {
   "display_name": "Python 3 (ipykernel)",
   "language": "python",
   "name": "python3"
  },
  "language_info": {
   "codemirror_mode": {
    "name": "ipython",
    "version": 3
   },
   "file_extension": ".py",
   "mimetype": "text/x-python",
   "name": "python",
   "nbconvert_exporter": "python",
   "pygments_lexer": "ipython3",
   "version": "3.10.9"
  }
 },
 "nbformat": 4,
 "nbformat_minor": 5
}
